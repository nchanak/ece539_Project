{
 "cells": [
  {
   "cell_type": "code",
   "execution_count": 1,
   "id": "e67c5aef",
   "metadata": {},
   "outputs": [],
   "source": [
    "%load_ext autoreload\n",
    "%autoreload 2"
   ]
  },
  {
   "cell_type": "code",
   "execution_count": 2,
   "id": "9184d0aa",
   "metadata": {},
   "outputs": [
    {
     "name": "stderr",
     "output_type": "stream",
     "text": [
      "2025-05-01 07:06:40.268550: I tensorflow/core/util/port.cc:111] oneDNN custom operations are on. You may see slightly different numerical results due to floating-point round-off errors from different computation orders. To turn them off, set the environment variable `TF_ENABLE_ONEDNN_OPTS=0`.\n",
      "2025-05-01 07:06:40.300334: E tensorflow/compiler/xla/stream_executor/cuda/cuda_dnn.cc:9342] Unable to register cuDNN factory: Attempting to register factory for plugin cuDNN when one has already been registered\n",
      "2025-05-01 07:06:40.300350: E tensorflow/compiler/xla/stream_executor/cuda/cuda_fft.cc:609] Unable to register cuFFT factory: Attempting to register factory for plugin cuFFT when one has already been registered\n",
      "2025-05-01 07:06:40.300385: E tensorflow/compiler/xla/stream_executor/cuda/cuda_blas.cc:1518] Unable to register cuBLAS factory: Attempting to register factory for plugin cuBLAS when one has already been registered\n",
      "2025-05-01 07:06:40.306977: I tensorflow/core/platform/cpu_feature_guard.cc:182] This TensorFlow binary is optimized to use available CPU instructions in performance-critical operations.\n",
      "To enable the following instructions: AVX2 AVX512F AVX512_VNNI AVX512_BF16 FMA, in other operations, rebuild TensorFlow with the appropriate compiler flags.\n",
      "2025-05-01 07:06:41.091796: W tensorflow/compiler/tf2tensorrt/utils/py_utils.cc:38] TF-TRT Warning: Could not find TensorRT\n",
      "/home/nchanak/miniconda3/envs/tf-gpu/lib/python3.10/site-packages/tensorflow_addons/utils/tfa_eol_msg.py:23: UserWarning: \n",
      "\n",
      "TensorFlow Addons (TFA) has ended development and introduction of new features.\n",
      "TFA has entered a minimal maintenance and release mode until a planned end of life in May 2024.\n",
      "Please modify downstream libraries to take dependencies from other repositories in our TensorFlow community (e.g. Keras, Keras-CV, and Keras-NLP). \n",
      "\n",
      "For more information see: https://github.com/tensorflow/addons/issues/2807 \n",
      "\n",
      "  warnings.warn(\n"
     ]
    }
   ],
   "source": [
    "import visualization, preprocess, metrics, naive_autoencoder, analyze_compression, wip_model"
   ]
  },
  {
   "cell_type": "code",
   "execution_count": 3,
   "id": "8419a79e",
   "metadata": {},
   "outputs": [
    {
     "name": "stdout",
     "output_type": "stream",
     "text": [
      "[name: \"/device:CPU:0\"\n",
      "device_type: \"CPU\"\n",
      "memory_limit: 268435456\n",
      "locality {\n",
      "}\n",
      "incarnation: 1288947465599675960\n",
      "xla_global_id: -1\n",
      ", name: \"/device:GPU:0\"\n",
      "device_type: \"GPU\"\n",
      "memory_limit: 14211350528\n",
      "locality {\n",
      "  bus_id: 1\n",
      "  links {\n",
      "  }\n",
      "}\n",
      "incarnation: 11306732471435980516\n",
      "physical_device_desc: \"device: 0, name: NVIDIA GeForce RTX 4070 Ti SUPER, pci bus id: 0000:01:00.0, compute capability: 8.9\"\n",
      "xla_global_id: 416903419\n",
      "]\n",
      "Built with CUDA: True\n",
      "Built with GPU support: True\n",
      "GPU available: [PhysicalDevice(name='/physical_device:GPU:0', device_type='GPU')]\n"
     ]
    },
    {
     "name": "stderr",
     "output_type": "stream",
     "text": [
      "2025-05-01 07:06:45.496755: I tensorflow/compiler/xla/stream_executor/cuda/cuda_gpu_executor.cc:880] could not open file to read NUMA node: /sys/bus/pci/devices/0000:01:00.0/numa_node\n",
      "Your kernel may have been built without NUMA support.\n",
      "2025-05-01 07:06:45.536140: I tensorflow/compiler/xla/stream_executor/cuda/cuda_gpu_executor.cc:880] could not open file to read NUMA node: /sys/bus/pci/devices/0000:01:00.0/numa_node\n",
      "Your kernel may have been built without NUMA support.\n",
      "2025-05-01 07:06:45.536171: I tensorflow/compiler/xla/stream_executor/cuda/cuda_gpu_executor.cc:880] could not open file to read NUMA node: /sys/bus/pci/devices/0000:01:00.0/numa_node\n",
      "Your kernel may have been built without NUMA support.\n",
      "2025-05-01 07:06:45.699863: I tensorflow/compiler/xla/stream_executor/cuda/cuda_gpu_executor.cc:880] could not open file to read NUMA node: /sys/bus/pci/devices/0000:01:00.0/numa_node\n",
      "Your kernel may have been built without NUMA support.\n",
      "2025-05-01 07:06:45.699897: I tensorflow/compiler/xla/stream_executor/cuda/cuda_gpu_executor.cc:880] could not open file to read NUMA node: /sys/bus/pci/devices/0000:01:00.0/numa_node\n",
      "Your kernel may have been built without NUMA support.\n",
      "2025-05-01 07:06:45.699902: I tensorflow/core/common_runtime/gpu/gpu_device.cc:1977] Could not identify NUMA node of platform GPU id 0, defaulting to 0.  Your kernel may not have been built with NUMA support.\n",
      "2025-05-01 07:06:45.699925: I tensorflow/compiler/xla/stream_executor/cuda/cuda_gpu_executor.cc:880] could not open file to read NUMA node: /sys/bus/pci/devices/0000:01:00.0/numa_node\n",
      "Your kernel may have been built without NUMA support.\n",
      "2025-05-01 07:06:45.699986: I tensorflow/core/common_runtime/gpu/gpu_device.cc:1886] Created device /device:GPU:0 with 13553 MB memory:  -> device: 0, name: NVIDIA GeForce RTX 4070 Ti SUPER, pci bus id: 0000:01:00.0, compute capability: 8.9\n",
      "2025-05-01 07:06:45.703578: I tensorflow/compiler/xla/stream_executor/cuda/cuda_gpu_executor.cc:880] could not open file to read NUMA node: /sys/bus/pci/devices/0000:01:00.0/numa_node\n",
      "Your kernel may have been built without NUMA support.\n",
      "2025-05-01 07:06:45.703609: I tensorflow/compiler/xla/stream_executor/cuda/cuda_gpu_executor.cc:880] could not open file to read NUMA node: /sys/bus/pci/devices/0000:01:00.0/numa_node\n",
      "Your kernel may have been built without NUMA support.\n",
      "2025-05-01 07:06:45.703628: I tensorflow/compiler/xla/stream_executor/cuda/cuda_gpu_executor.cc:880] could not open file to read NUMA node: /sys/bus/pci/devices/0000:01:00.0/numa_node\n",
      "Your kernel may have been built without NUMA support.\n"
     ]
    }
   ],
   "source": [
    "import tensorflow as tf\n",
    "from tensorflow.python.client import device_lib\n",
    "\n",
    "print(device_lib.list_local_devices())\n",
    "print(\"Built with CUDA:\", tf.test.is_built_with_cuda())\n",
    "print(\"Built with GPU support:\", tf.test.is_built_with_gpu_support())\n",
    "print(\"GPU available:\", tf.config.list_physical_devices('GPU'))\n",
    "\n",
    "gpus = tf.config.list_physical_devices('GPU')\n",
    "if gpus:\n",
    "    try:\n",
    "        for gpu in gpus:\n",
    "            tf.config.experimental.set_memory_growth(gpu, True)\n",
    "    except RuntimeError as e:\n",
    "        print(e)\n"
   ]
  },
  {
   "cell_type": "code",
   "execution_count": 13,
   "id": "aff570a4",
   "metadata": {},
   "outputs": [
    {
     "data": {
      "text/plain": [
       "4"
      ]
     },
     "execution_count": 13,
     "metadata": {},
     "output_type": "execute_result"
    }
   ],
   "source": [
    "import gc\n",
    "import tensorflow as tf\n",
    "\n",
    "# Clear TF session\n",
    "tf.keras.backend.clear_session()\n",
    "\n",
    "# Run garbage collection\n",
    "gc.collect()"
   ]
  },
  {
   "cell_type": "code",
   "execution_count": 4,
   "id": "5a5aacc8",
   "metadata": {},
   "outputs": [],
   "source": [
    "sequence_length = 4\n",
    "height = 64\n",
    "width = 64\n",
    "channels = 3"
   ]
  },
  {
   "cell_type": "code",
   "execution_count": 5,
   "id": "c6ead2fe",
   "metadata": {},
   "outputs": [
    {
     "name": "stderr",
     "output_type": "stream",
     "text": [
      "2025-05-01 07:07:26.627216: I tensorflow/compiler/xla/stream_executor/cuda/cuda_gpu_executor.cc:880] could not open file to read NUMA node: /sys/bus/pci/devices/0000:01:00.0/numa_node\n",
      "Your kernel may have been built without NUMA support.\n",
      "2025-05-01 07:07:26.627275: I tensorflow/compiler/xla/stream_executor/cuda/cuda_gpu_executor.cc:880] could not open file to read NUMA node: /sys/bus/pci/devices/0000:01:00.0/numa_node\n",
      "Your kernel may have been built without NUMA support.\n",
      "2025-05-01 07:07:26.627296: I tensorflow/compiler/xla/stream_executor/cuda/cuda_gpu_executor.cc:880] could not open file to read NUMA node: /sys/bus/pci/devices/0000:01:00.0/numa_node\n",
      "Your kernel may have been built without NUMA support.\n",
      "2025-05-01 07:07:26.627471: I tensorflow/compiler/xla/stream_executor/cuda/cuda_gpu_executor.cc:880] could not open file to read NUMA node: /sys/bus/pci/devices/0000:01:00.0/numa_node\n",
      "Your kernel may have been built without NUMA support.\n",
      "2025-05-01 07:07:26.627481: I tensorflow/core/common_runtime/gpu/gpu_device.cc:1977] Could not identify NUMA node of platform GPU id 0, defaulting to 0.  Your kernel may not have been built with NUMA support.\n",
      "2025-05-01 07:07:26.627502: I tensorflow/compiler/xla/stream_executor/cuda/cuda_gpu_executor.cc:880] could not open file to read NUMA node: /sys/bus/pci/devices/0000:01:00.0/numa_node\n",
      "Your kernel may have been built without NUMA support.\n",
      "2025-05-01 07:07:26.627512: I tensorflow/core/common_runtime/gpu/gpu_device.cc:1886] Created device /job:localhost/replica:0/task:0/device:GPU:0 with 13553 MB memory:  -> device: 0, name: NVIDIA GeForce RTX 4070 Ti SUPER, pci bus id: 0000:01:00.0, compute capability: 8.9\n"
     ]
    },
    {
     "name": "stdout",
     "output_type": "stream",
     "text": [
      "PixelCNN input shape (T, H, W): (2, 16, 16)\n"
     ]
    },
    {
     "name": "stderr",
     "output_type": "stream",
     "text": [
      "2025-05-01 07:07:27.333500: I tensorflow/compiler/xla/stream_executor/cuda/cuda_dnn.cc:442] Loaded cuDNN version 8600\n",
      "2025-05-01 07:07:27.410078: W tensorflow/compiler/xla/stream_executor/gpu/asm_compiler.cc:231] Falling back to the CUDA driver for PTX compilation; ptxas does not support CC 8.9\n",
      "2025-05-01 07:07:27.410108: W tensorflow/compiler/xla/stream_executor/gpu/asm_compiler.cc:234] Used ptxas at ptxas\n",
      "2025-05-01 07:07:27.410156: W tensorflow/compiler/xla/stream_executor/gpu/redzone_allocator.cc:322] UNIMPLEMENTED: ptxas ptxas too old. Falling back to the driver to compile.\n",
      "Relying on driver to perform ptx compilation. \n",
      "Modify $PATH to customize ptxas location.\n",
      "This message will be only logged once.\n",
      "2025-05-01 07:07:27.448506: W tensorflow/compiler/mlir/tools/kernel_gen/transforms/gpu_kernel_to_blob_pass.cc:191] Failed to compile generated PTX with ptxas. Falling back to compilation by driver.\n",
      "2025-05-01 07:07:27.476407: W tensorflow/compiler/mlir/tools/kernel_gen/transforms/gpu_kernel_to_blob_pass.cc:191] Failed to compile generated PTX with ptxas. Falling back to compilation by driver.\n",
      "2025-05-01 07:07:27.503340: W tensorflow/compiler/mlir/tools/kernel_gen/transforms/gpu_kernel_to_blob_pass.cc:191] Failed to compile generated PTX with ptxas. Falling back to compilation by driver.\n",
      "2025-05-01 07:07:27.683191: W tensorflow/compiler/mlir/tools/kernel_gen/transforms/gpu_kernel_to_blob_pass.cc:191] Failed to compile generated PTX with ptxas. Falling back to compilation by driver.\n",
      "2025-05-01 07:07:27.683253: W tensorflow/compiler/mlir/tools/kernel_gen/transforms/gpu_kernel_to_blob_pass.cc:191] Failed to compile generated PTX with ptxas. Falling back to compilation by driver.\n",
      "2025-05-01 07:07:27.683781: W tensorflow/compiler/mlir/tools/kernel_gen/transforms/gpu_kernel_to_blob_pass.cc:191] Failed to compile generated PTX with ptxas. Falling back to compilation by driver.\n",
      "2025-05-01 07:07:27.684428: W tensorflow/compiler/mlir/tools/kernel_gen/transforms/gpu_kernel_to_blob_pass.cc:191] Failed to compile generated PTX with ptxas. Falling back to compilation by driver.\n",
      "2025-05-01 07:07:27.684747: W tensorflow/compiler/mlir/tools/kernel_gen/transforms/gpu_kernel_to_blob_pass.cc:191] Failed to compile generated PTX with ptxas. Falling back to compilation by driver.\n",
      "2025-05-01 07:07:27.692887: W tensorflow/compiler/mlir/tools/kernel_gen/transforms/gpu_kernel_to_blob_pass.cc:191] Failed to compile generated PTX with ptxas. Falling back to compilation by driver.\n",
      "2025-05-01 07:07:27.700948: W tensorflow/compiler/mlir/tools/kernel_gen/transforms/gpu_kernel_to_blob_pass.cc:191] Failed to compile generated PTX with ptxas. Falling back to compilation by driver.\n",
      "2025-05-01 07:07:27.708499: W tensorflow/compiler/mlir/tools/kernel_gen/transforms/gpu_kernel_to_blob_pass.cc:191] Failed to compile generated PTX with ptxas. Falling back to compilation by driver.\n",
      "2025-05-01 07:07:27.820777: W tensorflow/compiler/mlir/tools/kernel_gen/transforms/gpu_kernel_to_blob_pass.cc:191] Failed to compile generated PTX with ptxas. Falling back to compilation by driver.\n",
      "2025-05-01 07:07:27.854541: W tensorflow/compiler/mlir/tools/kernel_gen/transforms/gpu_kernel_to_blob_pass.cc:191] Failed to compile generated PTX with ptxas. Falling back to compilation by driver.\n"
     ]
    },
    {
     "name": "stdout",
     "output_type": "stream",
     "text": [
      "Model: \"vqvae_module\"\n",
      "_________________________________________________________________\n",
      " Layer (type)                Output Shape              Param #   \n",
      "=================================================================\n",
      " Encoder (Functional)        (None, 2, 16, 16, 16)     6578064   \n",
      "                                                                 \n",
      " Decoder (Functional)        (None, 4, 64, 64, 3)      6578051   \n",
      "                                                                 \n",
      " vector_quantizer (VectorQu  multiple                  2048      \n",
      " antizer)                                                        \n",
      "                                                                 \n",
      " pixel_cnn_prior (PixelCNNP  multiple                  0 (unused)\n",
      " rior)                                                           \n",
      "                                                                 \n",
      "=================================================================\n",
      "Total params: 16714651 (63.76 MB)\n",
      "Trainable params: 16714643 (63.76 MB)\n",
      "Non-trainable params: 8 (32.00 Byte)\n",
      "_________________________________________________________________\n"
     ]
    },
    {
     "name": "stderr",
     "output_type": "stream",
     "text": [
      "2025-05-01 07:07:27.921835: W tensorflow/compiler/mlir/tools/kernel_gen/transforms/gpu_kernel_to_blob_pass.cc:191] Failed to compile generated PTX with ptxas. Falling back to compilation by driver.\n"
     ]
    }
   ],
   "source": [
    "import tensorflow as tf\n",
    "import importlib\n",
    "importlib.reload(wip_model)\n",
    "\n",
    "# Define your input shape for the video sequences\n",
    "input_shape = (sequence_length, height, width, channels)\n",
    "\n",
    "# Build encoder and decoder\n",
    "encoder = wip_model.build_encoder(input_shape=input_shape, latent_channels=16)\n",
    "decoder = wip_model.build_decoder(latent_shape=encoder.output_shape[1:], output_channels=3)\n",
    "\n",
    "# Vector quantization layer\n",
    "vq_layer = wip_model.VectorQuantizer(num_embeddings=128, embedding_dim=16)\n",
    "\n",
    "# Get latent shape without embedding dimension for PixelCNNPrior input\n",
    "z_index_shape = encoder.output_shape[1:-1]  # (T, H, W)\n",
    "print(\"PixelCNN input shape (T, H, W):\", z_index_shape)\n",
    "\n",
    "# Build PixelCNN prior\n",
    "pixelcnn_prior = wip_model.PixelCNNPrior(input_shape=z_index_shape, num_embeddings=128)\n",
    "\n",
    "# Compose the full VQ-VAE module\n",
    "vqvae = wip_model.VQVAEModule(\n",
    "    encoder=encoder,\n",
    "    beta_schedule=wip_model.linear_beta_schedule,\n",
    "    decoder=decoder,\n",
    "    vq_layer=vq_layer,\n",
    "    pixelcnn_prior=pixelcnn_prior,\n",
    "    beta=0.15\n",
    ")\n",
    "\n",
    "# Compile with optimizer\n",
    "vqvae.compile(optimizer= tf.keras.optimizers.AdamW(1e-4, weight_decay=1e-5))\n",
    "_ = vqvae(tf.random.normal((1, *input_shape)))\n",
    "vqvae.summary()"
   ]
  },
  {
   "cell_type": "code",
   "execution_count": 6,
   "id": "1d41e1a5",
   "metadata": {},
   "outputs": [
    {
     "name": "stdout",
     "output_type": "stream",
     "text": [
      "Train data shape: (32141, 4, 64, 64, 3)\n",
      "Validation data shape: (8036, 4, 64, 64, 3)\n"
     ]
    }
   ],
   "source": [
    "import numpy as np\n",
    "import tensorflow as tf\n",
    "\n",
    "video_folder = \"extracted_videos\"\n",
    "\n",
    "# 1. Preprocess the videos\n",
    "video_data, video_filenames = preprocess.preprocess_videos_with_mapping(\n",
    "    video_folder=video_folder,\n",
    "    sequence_length=sequence_length,\n",
    "    height=height,\n",
    "    width=width,\n",
    "    channels=channels\n",
    ")\n",
    "\n",
    "# 2. Split into training/validation\n",
    "split_index = int(0.8 * len(video_data))\n",
    "train_data = video_data[:split_index]\n",
    "val_data = video_data[split_index:]\n",
    "\n",
    "# 3. Reshape to match input shape\n",
    "train_data = train_data.reshape((-1, sequence_length, height, width, channels)).astype(np.float32)\n",
    "val_data   = val_data.reshape((-1, sequence_length, height, width, channels)).astype(np.float32)\n",
    "\n",
    "print(\"Train data shape:\", train_data.shape)\n",
    "print(\"Validation data shape:\", val_data.shape)\n",
    "\n",
    "# 4. Create dataset objects (no huge memory explosion)\n",
    "def make_dataset(array, batch_size=4, shuffle=True):\n",
    "    def generator():\n",
    "        for x in array:\n",
    "            yield x\n",
    "    ds = tf.data.Dataset.from_generator(\n",
    "        generator,\n",
    "        output_signature=tf.TensorSpec(shape=(sequence_length, height, width, channels), dtype=tf.float32)\n",
    "    )\n",
    "    if shuffle:\n",
    "        ds = ds.shuffle(buffer_size=1000)\n",
    "    ds = ds.batch(batch_size).prefetch(tf.data.AUTOTUNE)\n",
    "    return ds\n",
    "\n",
    "train_ds = make_dataset(train_data, batch_size=4)\n",
    "val_ds   = make_dataset(val_data, batch_size=4, shuffle=False)\n"
   ]
  },
  {
   "cell_type": "code",
   "execution_count": 7,
   "id": "b0c973d4",
   "metadata": {},
   "outputs": [],
   "source": [
    "import tensorflow as tf\n",
    "\n",
    "class BetaSchedulerCallback(tf.keras.callbacks.Callback):\n",
    "    def __init__(self, vqvae_model):\n",
    "        super().__init__()\n",
    "        self.vqvae = vqvae_model\n",
    "\n",
    "    def on_epoch_begin(self, epoch, logs=None):\n",
    "        if self.vqvae.beta_schedule is not None:\n",
    "            new_beta = self.vqvae.beta_schedule(epoch)\n",
    "            self.vqvae.beta.assign(new_beta)\n",
    "            tf.print(\"🔁 Beta updated to:\", new_beta)\n"
   ]
  },
  {
   "cell_type": "code",
   "execution_count": 7,
   "id": "07f3ed58",
   "metadata": {},
   "outputs": [],
   "source": [
    "class CodebookUsageLogger(tf.keras.callbacks.Callback):\n",
    "    def __init__(self, vqvae_model, ds, num_batches=5):\n",
    "        self.vqvae = vqvae_model\n",
    "        self.ds = ds\n",
    "        self.num_batches = num_batches\n",
    "\n",
    "    def on_epoch_end(self, epoch, logs=None):\n",
    "        all_indices = []\n",
    "        for i, x in enumerate(self.ds.take(self.num_batches)):\n",
    "            out = self.vqvae(x, training=False)\n",
    "            all_indices.extend(tf.reshape(out[\"z_indices\"], [-1]).numpy())\n",
    "\n",
    "        used = len(np.unique(all_indices))\n",
    "        print(f\"\\n🧩 Codebook usage after epoch {epoch+1}: {used}/{self.vqvae.vq_layer.num_embeddings}\")\n"
   ]
  },
  {
   "cell_type": "code",
   "execution_count": 8,
   "id": "77097e25",
   "metadata": {},
   "outputs": [
    {
     "name": "stdout",
     "output_type": "stream",
     "text": [
      "Epoch 1/40\n",
      "WARNING:tensorflow:Gradients do not exist for variables ['Variable:0'] when minimizing the loss. If you're using `model.compile()`, did you forget to provide a `loss` argument?\n",
      "WARNING:tensorflow:Gradients do not exist for variables ['Variable:0'] when minimizing the loss. If you're using `model.compile()`, did you forget to provide a `loss` argument?\n",
      "WARNING:tensorflow:Gradients do not exist for variables ['Variable:0'] when minimizing the loss. If you're using `model.compile()`, did you forget to provide a `loss` argument?\n",
      "WARNING:tensorflow:Gradients do not exist for variables ['Variable:0'] when minimizing the loss. If you're using `model.compile()`, did you forget to provide a `loss` argument?\n"
     ]
    },
    {
     "name": "stderr",
     "output_type": "stream",
     "text": [
      "2025-05-01 07:09:15.935088: W tensorflow/compiler/mlir/tools/kernel_gen/transforms/gpu_kernel_to_blob_pass.cc:191] Failed to compile generated PTX with ptxas. Falling back to compilation by driver.\n",
      "2025-05-01 07:09:15.935354: W tensorflow/compiler/mlir/tools/kernel_gen/transforms/gpu_kernel_to_blob_pass.cc:191] Failed to compile generated PTX with ptxas. Falling back to compilation by driver.\n",
      "2025-05-01 07:09:15.935370: W tensorflow/compiler/mlir/tools/kernel_gen/transforms/gpu_kernel_to_blob_pass.cc:191] Failed to compile generated PTX with ptxas. Falling back to compilation by driver.\n",
      "2025-05-01 07:09:15.935380: W tensorflow/compiler/mlir/tools/kernel_gen/transforms/gpu_kernel_to_blob_pass.cc:191] Failed to compile generated PTX with ptxas. Falling back to compilation by driver.\n",
      "2025-05-01 07:09:15.935398: W tensorflow/compiler/mlir/tools/kernel_gen/transforms/gpu_kernel_to_blob_pass.cc:191] Failed to compile generated PTX with ptxas. Falling back to compilation by driver.\n",
      "2025-05-01 07:09:15.935573: W tensorflow/compiler/mlir/tools/kernel_gen/transforms/gpu_kernel_to_blob_pass.cc:191] Failed to compile generated PTX with ptxas. Falling back to compilation by driver.\n",
      "2025-05-01 07:09:15.935625: W tensorflow/compiler/mlir/tools/kernel_gen/transforms/gpu_kernel_to_blob_pass.cc:191] Failed to compile generated PTX with ptxas. Falling back to compilation by driver.\n",
      "2025-05-01 07:09:15.935728: W tensorflow/compiler/mlir/tools/kernel_gen/transforms/gpu_kernel_to_blob_pass.cc:191] Failed to compile generated PTX with ptxas. Falling back to compilation by driver.\n",
      "2025-05-01 07:09:16.241458: W tensorflow/compiler/mlir/tools/kernel_gen/transforms/gpu_kernel_to_blob_pass.cc:191] Failed to compile generated PTX with ptxas. Falling back to compilation by driver.\n",
      "2025-05-01 07:09:16.242241: W tensorflow/compiler/mlir/tools/kernel_gen/transforms/gpu_kernel_to_blob_pass.cc:191] Failed to compile generated PTX with ptxas. Falling back to compilation by driver.\n",
      "2025-05-01 07:09:16.242989: W tensorflow/compiler/mlir/tools/kernel_gen/transforms/gpu_kernel_to_blob_pass.cc:191] Failed to compile generated PTX with ptxas. Falling back to compilation by driver.\n",
      "2025-05-01 07:09:16.243062: W tensorflow/compiler/mlir/tools/kernel_gen/transforms/gpu_kernel_to_blob_pass.cc:191] Failed to compile generated PTX with ptxas. Falling back to compilation by driver.\n",
      "2025-05-01 07:09:16.243639: W tensorflow/compiler/mlir/tools/kernel_gen/transforms/gpu_kernel_to_blob_pass.cc:191] Failed to compile generated PTX with ptxas. Falling back to compilation by driver.\n",
      "2025-05-01 07:09:16.243682: W tensorflow/compiler/mlir/tools/kernel_gen/transforms/gpu_kernel_to_blob_pass.cc:191] Failed to compile generated PTX with ptxas. Falling back to compilation by driver.\n",
      "2025-05-01 07:09:16.251327: W tensorflow/compiler/mlir/tools/kernel_gen/transforms/gpu_kernel_to_blob_pass.cc:191] Failed to compile generated PTX with ptxas. Falling back to compilation by driver.\n",
      "2025-05-01 07:09:16.251927: W tensorflow/compiler/mlir/tools/kernel_gen/transforms/gpu_kernel_to_blob_pass.cc:191] Failed to compile generated PTX with ptxas. Falling back to compilation by driver.\n",
      "2025-05-01 07:09:16.339932: W tensorflow/compiler/mlir/tools/kernel_gen/transforms/gpu_kernel_to_blob_pass.cc:191] Failed to compile generated PTX with ptxas. Falling back to compilation by driver.\n",
      "2025-05-01 07:09:16.631399: W tensorflow/compiler/mlir/tools/kernel_gen/transforms/gpu_kernel_to_blob_pass.cc:191] Failed to compile generated PTX with ptxas. Falling back to compilation by driver.\n",
      "2025-05-01 07:09:16.709388: I tensorflow/compiler/xla/service/service.cc:168] XLA service 0x7f8801711350 initialized for platform CUDA (this does not guarantee that XLA will be used). Devices:\n",
      "2025-05-01 07:09:16.709417: I tensorflow/compiler/xla/service/service.cc:176]   StreamExecutor device (0): NVIDIA GeForce RTX 4070 Ti SUPER, Compute Capability 8.9\n",
      "2025-05-01 07:09:16.753272: W tensorflow/compiler/mlir/tools/kernel_gen/transforms/gpu_kernel_to_blob_pass.cc:191] Failed to compile generated PTX with ptxas. Falling back to compilation by driver.\n",
      "2025-05-01 07:09:16.756415: I tensorflow/compiler/mlir/tensorflow/utils/dump_mlir_util.cc:269] disabling MLIR crash reproducer, set env var `MLIR_CRASH_REPRODUCER_DIRECTORY` to enable.\n",
      "2025-05-01 07:09:16.913070: W tensorflow/compiler/xla/service/gpu/nvptx_compiler.cc:445] Couldn't read CUDA driver version.\n",
      "2025-05-01 07:09:16.917767: W tensorflow/compiler/mlir/tools/kernel_gen/transforms/gpu_kernel_to_blob_pass.cc:191] Failed to compile generated PTX with ptxas. Falling back to compilation by driver.\n",
      "2025-05-01 07:09:16.923974: W tensorflow/compiler/mlir/tools/kernel_gen/transforms/gpu_kernel_to_blob_pass.cc:191] Failed to compile generated PTX with ptxas. Falling back to compilation by driver.\n",
      "2025-05-01 07:09:16.925457: W tensorflow/compiler/mlir/tools/kernel_gen/transforms/gpu_kernel_to_blob_pass.cc:191] Failed to compile generated PTX with ptxas. Falling back to compilation by driver.\n",
      "2025-05-01 07:09:16.925614: W tensorflow/compiler/mlir/tools/kernel_gen/transforms/gpu_kernel_to_blob_pass.cc:191] Failed to compile generated PTX with ptxas. Falling back to compilation by driver.\n",
      "2025-05-01 07:09:16.925753: W tensorflow/compiler/mlir/tools/kernel_gen/transforms/gpu_kernel_to_blob_pass.cc:191] Failed to compile generated PTX with ptxas. Falling back to compilation by driver.\n",
      "2025-05-01 07:09:16.927051: W tensorflow/compiler/mlir/tools/kernel_gen/transforms/gpu_kernel_to_blob_pass.cc:191] Failed to compile generated PTX with ptxas. Falling back to compilation by driver.\n",
      "2025-05-01 07:09:16.929588: W tensorflow/compiler/mlir/tools/kernel_gen/transforms/gpu_kernel_to_blob_pass.cc:191] Failed to compile generated PTX with ptxas. Falling back to compilation by driver.\n",
      "2025-05-01 07:09:16.930623: W tensorflow/compiler/mlir/tools/kernel_gen/transforms/gpu_kernel_to_blob_pass.cc:191] Failed to compile generated PTX with ptxas. Falling back to compilation by driver.\n",
      "2025-05-01 07:09:16.934213: W tensorflow/compiler/mlir/tools/kernel_gen/transforms/gpu_kernel_to_blob_pass.cc:191] Failed to compile generated PTX with ptxas. Falling back to compilation by driver.\n",
      "2025-05-01 07:09:16.943718: I ./tensorflow/compiler/jit/device_compiler.h:186] Compiled cluster using XLA!  This line is logged at most once for the lifetime of the process.\n"
     ]
    },
    {
     "name": "stdout",
     "output_type": "stream",
     "text": [
      "   8036/Unknown - 488s 59ms/step - loss: 0.5050 - distortion: 0.1644 - rate: 2.2709 - beta: 0.1500"
     ]
    },
    {
     "name": "stderr",
     "output_type": "stream",
     "text": [
      "2025-05-01 07:17:17.437720: W tensorflow/compiler/mlir/tools/kernel_gen/transforms/gpu_kernel_to_blob_pass.cc:191] Failed to compile generated PTX with ptxas. Falling back to compilation by driver.\n",
      "2025-05-01 07:17:44.577569: W tensorflow/compiler/mlir/tools/kernel_gen/transforms/gpu_kernel_to_blob_pass.cc:191] Failed to compile generated PTX with ptxas. Falling back to compilation by driver.\n",
      "2025-05-01 07:17:44.578086: W tensorflow/compiler/mlir/tools/kernel_gen/transforms/gpu_kernel_to_blob_pass.cc:191] Failed to compile generated PTX with ptxas. Falling back to compilation by driver.\n",
      "2025-05-01 07:17:44.578131: W tensorflow/compiler/mlir/tools/kernel_gen/transforms/gpu_kernel_to_blob_pass.cc:191] Failed to compile generated PTX with ptxas. Falling back to compilation by driver.\n",
      "2025-05-01 07:17:44.578673: W tensorflow/compiler/mlir/tools/kernel_gen/transforms/gpu_kernel_to_blob_pass.cc:191] Failed to compile generated PTX with ptxas. Falling back to compilation by driver.\n",
      "2025-05-01 07:17:44.578718: W tensorflow/compiler/mlir/tools/kernel_gen/transforms/gpu_kernel_to_blob_pass.cc:191] Failed to compile generated PTX with ptxas. Falling back to compilation by driver.\n",
      "2025-05-01 07:17:44.578739: W tensorflow/compiler/mlir/tools/kernel_gen/transforms/gpu_kernel_to_blob_pass.cc:191] Failed to compile generated PTX with ptxas. Falling back to compilation by driver.\n",
      "2025-05-01 07:17:44.578754: W tensorflow/compiler/mlir/tools/kernel_gen/transforms/gpu_kernel_to_blob_pass.cc:191] Failed to compile generated PTX with ptxas. Falling back to compilation by driver.\n",
      "2025-05-01 07:17:44.578802: W tensorflow/compiler/mlir/tools/kernel_gen/transforms/gpu_kernel_to_blob_pass.cc:191] Failed to compile generated PTX with ptxas. Falling back to compilation by driver.\n"
     ]
    },
    {
     "name": "stdout",
     "output_type": "stream",
     "text": [
      "\n",
      "🧩 Codebook usage after epoch 1: 48/128\n",
      "WARNING:tensorflow:Model's `__init__()` arguments contain non-serializable objects. Please implement a `get_config()` method in the subclassed Model for proper saving and loading. Defaulting to empty config.\n",
      "WARNING:tensorflow:Model's `__init__()` arguments contain non-serializable objects. Please implement a `get_config()` method in the subclassed Model for proper saving and loading. Defaulting to empty config.\n",
      "8036/8036 [==============================] - 519s 63ms/step - loss: 0.5050 - distortion: 0.1644 - rate: 2.2709 - beta: 0.1500 - val_loss: 0.5549 - val_distortion: 0.2169 - val_rate: 2.2536\n",
      "Epoch 2/40\n",
      "8036/8036 [==============================] - ETA: 0s - loss: 0.4412 - distortion: 0.1190 - rate: 2.1482 - beta: 0.1500\n",
      "🧩 Codebook usage after epoch 2: 59/128\n",
      "WARNING:tensorflow:Model's `__init__()` arguments contain non-serializable objects. Please implement a `get_config()` method in the subclassed Model for proper saving and loading. Defaulting to empty config.\n",
      "WARNING:tensorflow:Model's `__init__()` arguments contain non-serializable objects. Please implement a `get_config()` method in the subclassed Model for proper saving and loading. Defaulting to empty config.\n",
      "8036/8036 [==============================] - 512s 64ms/step - loss: 0.4412 - distortion: 0.1190 - rate: 2.1482 - beta: 0.1500 - val_loss: 0.5545 - val_distortion: 0.2132 - val_rate: 2.2753\n",
      "Epoch 3/40\n",
      "8036/8036 [==============================] - ETA: 0s - loss: 0.4114 - distortion: 0.1043 - rate: 2.0477 - beta: 0.1500\n",
      "🧩 Codebook usage after epoch 3: 63/128\n",
      "WARNING:tensorflow:Model's `__init__()` arguments contain non-serializable objects. Please implement a `get_config()` method in the subclassed Model for proper saving and loading. Defaulting to empty config.\n",
      "WARNING:tensorflow:Model's `__init__()` arguments contain non-serializable objects. Please implement a `get_config()` method in the subclassed Model for proper saving and loading. Defaulting to empty config.\n",
      "8036/8036 [==============================] - 512s 64ms/step - loss: 0.4114 - distortion: 0.1043 - rate: 2.0477 - beta: 0.1500 - val_loss: 0.5605 - val_distortion: 0.2234 - val_rate: 2.2477\n",
      "Epoch 4/40\n",
      "8035/8036 [============================>.] - ETA: 0s - loss: 0.3975 - distortion: 0.0960 - rate: 2.0099 - beta: 0.1500\n",
      "🧩 Codebook usage after epoch 4: 62/128\n",
      "WARNING:tensorflow:Model's `__init__()` arguments contain non-serializable objects. Please implement a `get_config()` method in the subclassed Model for proper saving and loading. Defaulting to empty config.\n",
      "WARNING:tensorflow:Model's `__init__()` arguments contain non-serializable objects. Please implement a `get_config()` method in the subclassed Model for proper saving and loading. Defaulting to empty config.\n",
      "8036/8036 [==============================] - 519s 65ms/step - loss: 0.3975 - distortion: 0.0960 - rate: 2.0099 - beta: 0.1500 - val_loss: 0.5565 - val_distortion: 0.2131 - val_rate: 2.2890\n",
      "Epoch 5/40\n",
      "8035/8036 [============================>.] - ETA: 0s - loss: 0.3885 - distortion: 0.0904 - rate: 1.9872 - beta: 0.1500\n",
      "🧩 Codebook usage after epoch 5: 67/128\n",
      "WARNING:tensorflow:Model's `__init__()` arguments contain non-serializable objects. Please implement a `get_config()` method in the subclassed Model for proper saving and loading. Defaulting to empty config.\n",
      "WARNING:tensorflow:Model's `__init__()` arguments contain non-serializable objects. Please implement a `get_config()` method in the subclassed Model for proper saving and loading. Defaulting to empty config.\n",
      "8036/8036 [==============================] - 503s 63ms/step - loss: 0.3885 - distortion: 0.0904 - rate: 1.9873 - beta: 0.1500 - val_loss: 0.5653 - val_distortion: 0.2149 - val_rate: 2.3358\n",
      "Epoch 6/40\n",
      "8036/8036 [==============================] - ETA: 0s - loss: 0.3813 - distortion: 0.0865 - rate: 1.9654 - beta: 0.1500\n",
      "🧩 Codebook usage after epoch 6: 68/128\n",
      "WARNING:tensorflow:Model's `__init__()` arguments contain non-serializable objects. Please implement a `get_config()` method in the subclassed Model for proper saving and loading. Defaulting to empty config.\n",
      "WARNING:tensorflow:Model's `__init__()` arguments contain non-serializable objects. Please implement a `get_config()` method in the subclassed Model for proper saving and loading. Defaulting to empty config.\n",
      "8036/8036 [==============================] - 533s 66ms/step - loss: 0.3813 - distortion: 0.0865 - rate: 1.9654 - beta: 0.1500 - val_loss: 0.5727 - val_distortion: 0.2212 - val_rate: 2.3429\n",
      "Epoch 7/40\n",
      "8036/8036 [==============================] - ETA: 0s - loss: 0.3755 - distortion: 0.0835 - rate: 1.9472 - beta: 0.1500\n",
      "🧩 Codebook usage after epoch 7: 70/128\n",
      "WARNING:tensorflow:Model's `__init__()` arguments contain non-serializable objects. Please implement a `get_config()` method in the subclassed Model for proper saving and loading. Defaulting to empty config.\n",
      "WARNING:tensorflow:Model's `__init__()` arguments contain non-serializable objects. Please implement a `get_config()` method in the subclassed Model for proper saving and loading. Defaulting to empty config.\n",
      "8036/8036 [==============================] - 518s 64ms/step - loss: 0.3755 - distortion: 0.0835 - rate: 1.9472 - beta: 0.1500 - val_loss: 0.5727 - val_distortion: 0.2204 - val_rate: 2.3488\n",
      "Epoch 8/40\n",
      "8036/8036 [==============================] - ETA: 0s - loss: 0.3707 - distortion: 0.0811 - rate: 1.9308 - beta: 0.1500\n",
      "🧩 Codebook usage after epoch 8: 69/128\n",
      "WARNING:tensorflow:Model's `__init__()` arguments contain non-serializable objects. Please implement a `get_config()` method in the subclassed Model for proper saving and loading. Defaulting to empty config.\n",
      "WARNING:tensorflow:Model's `__init__()` arguments contain non-serializable objects. Please implement a `get_config()` method in the subclassed Model for proper saving and loading. Defaulting to empty config.\n",
      "8036/8036 [==============================] - 536s 67ms/step - loss: 0.3707 - distortion: 0.0811 - rate: 1.9308 - beta: 0.1500 - val_loss: 0.5736 - val_distortion: 0.2211 - val_rate: 2.3504\n",
      "Epoch 9/40\n",
      "8035/8036 [============================>.] - ETA: 0s - loss: 0.3667 - distortion: 0.0792 - rate: 1.9168 - beta: 0.1500\n",
      "🧩 Codebook usage after epoch 9: 70/128\n",
      "WARNING:tensorflow:Model's `__init__()` arguments contain non-serializable objects. Please implement a `get_config()` method in the subclassed Model for proper saving and loading. Defaulting to empty config.\n",
      "WARNING:tensorflow:Model's `__init__()` arguments contain non-serializable objects. Please implement a `get_config()` method in the subclassed Model for proper saving and loading. Defaulting to empty config.\n",
      "8036/8036 [==============================] - 538s 67ms/step - loss: 0.3667 - distortion: 0.0792 - rate: 1.9168 - beta: 0.1500 - val_loss: 0.5790 - val_distortion: 0.2235 - val_rate: 2.3699\n",
      "Epoch 10/40\n",
      "8036/8036 [==============================] - ETA: 0s - loss: 0.3599 - distortion: 0.0775 - rate: 1.8831 - beta: 0.1500\n",
      "🧩 Codebook usage after epoch 10: 71/128\n",
      "WARNING:tensorflow:Model's `__init__()` arguments contain non-serializable objects. Please implement a `get_config()` method in the subclassed Model for proper saving and loading. Defaulting to empty config.\n",
      "WARNING:tensorflow:Model's `__init__()` arguments contain non-serializable objects. Please implement a `get_config()` method in the subclassed Model for proper saving and loading. Defaulting to empty config.\n",
      "8036/8036 [==============================] - 539s 67ms/step - loss: 0.3599 - distortion: 0.0775 - rate: 1.8831 - beta: 0.1500 - val_loss: 0.5747 - val_distortion: 0.2275 - val_rate: 2.3143\n",
      "Epoch 11/40\n",
      "8036/8036 [==============================] - ETA: 0s - loss: 0.3539 - distortion: 0.0760 - rate: 1.8526 - beta: 0.1500\n",
      "🧩 Codebook usage after epoch 11: 70/128\n",
      "WARNING:tensorflow:Model's `__init__()` arguments contain non-serializable objects. Please implement a `get_config()` method in the subclassed Model for proper saving and loading. Defaulting to empty config.\n",
      "WARNING:tensorflow:Model's `__init__()` arguments contain non-serializable objects. Please implement a `get_config()` method in the subclassed Model for proper saving and loading. Defaulting to empty config.\n",
      "8036/8036 [==============================] - 531s 66ms/step - loss: 0.3539 - distortion: 0.0760 - rate: 1.8526 - beta: 0.1500 - val_loss: 0.5783 - val_distortion: 0.2300 - val_rate: 2.3220\n",
      "Epoch 12/40\n",
      "8035/8036 [============================>.] - ETA: 0s - loss: 0.3501 - distortion: 0.0749 - rate: 1.8351 - beta: 0.1500\n",
      "🧩 Codebook usage after epoch 12: 71/128\n",
      "WARNING:tensorflow:Model's `__init__()` arguments contain non-serializable objects. Please implement a `get_config()` method in the subclassed Model for proper saving and loading. Defaulting to empty config.\n",
      "WARNING:tensorflow:Model's `__init__()` arguments contain non-serializable objects. Please implement a `get_config()` method in the subclassed Model for proper saving and loading. Defaulting to empty config.\n",
      "8036/8036 [==============================] - 538s 67ms/step - loss: 0.3502 - distortion: 0.0749 - rate: 1.8351 - beta: 0.1500 - val_loss: 0.5790 - val_distortion: 0.2256 - val_rate: 2.3559\n",
      "Epoch 13/40\n",
      "8036/8036 [==============================] - ETA: 0s - loss: 0.3470 - distortion: 0.0737 - rate: 1.8218 - beta: 0.1500\n",
      "🧩 Codebook usage after epoch 13: 72/128\n",
      "WARNING:tensorflow:Model's `__init__()` arguments contain non-serializable objects. Please implement a `get_config()` method in the subclassed Model for proper saving and loading. Defaulting to empty config.\n",
      "WARNING:tensorflow:Model's `__init__()` arguments contain non-serializable objects. Please implement a `get_config()` method in the subclassed Model for proper saving and loading. Defaulting to empty config.\n",
      "8036/8036 [==============================] - 529s 66ms/step - loss: 0.3470 - distortion: 0.0737 - rate: 1.8218 - beta: 0.1500 - val_loss: 0.5804 - val_distortion: 0.2269 - val_rate: 2.3569\n",
      "Epoch 14/40\n",
      "8035/8036 [============================>.] - ETA: 0s - loss: 0.3441 - distortion: 0.0727 - rate: 1.8089 - beta: 0.1500\n",
      "🧩 Codebook usage after epoch 14: 76/128\n",
      "WARNING:tensorflow:Model's `__init__()` arguments contain non-serializable objects. Please implement a `get_config()` method in the subclassed Model for proper saving and loading. Defaulting to empty config.\n",
      "WARNING:tensorflow:Model's `__init__()` arguments contain non-serializable objects. Please implement a `get_config()` method in the subclassed Model for proper saving and loading. Defaulting to empty config.\n",
      "8036/8036 [==============================] - 536s 67ms/step - loss: 0.3441 - distortion: 0.0728 - rate: 1.8089 - beta: 0.1500 - val_loss: 0.5775 - val_distortion: 0.2244 - val_rate: 2.3536\n",
      "Epoch 15/40\n",
      "8036/8036 [==============================] - ETA: 0s - loss: 0.3418 - distortion: 0.0718 - rate: 1.7998 - beta: 0.1500\n",
      "🧩 Codebook usage after epoch 15: 67/128\n",
      "WARNING:tensorflow:Model's `__init__()` arguments contain non-serializable objects. Please implement a `get_config()` method in the subclassed Model for proper saving and loading. Defaulting to empty config.\n",
      "WARNING:tensorflow:Model's `__init__()` arguments contain non-serializable objects. Please implement a `get_config()` method in the subclassed Model for proper saving and loading. Defaulting to empty config.\n",
      "8036/8036 [==============================] - 529s 66ms/step - loss: 0.3418 - distortion: 0.0718 - rate: 1.7998 - beta: 0.1500 - val_loss: 0.5819 - val_distortion: 0.2262 - val_rate: 2.3707\n",
      "Epoch 16/40\n",
      "8036/8036 [==============================] - ETA: 0s - loss: 0.3397 - distortion: 0.0710 - rate: 1.7912 - beta: 0.1500\n",
      "🧩 Codebook usage after epoch 16: 70/128\n",
      "WARNING:tensorflow:Model's `__init__()` arguments contain non-serializable objects. Please implement a `get_config()` method in the subclassed Model for proper saving and loading. Defaulting to empty config.\n",
      "WARNING:tensorflow:Model's `__init__()` arguments contain non-serializable objects. Please implement a `get_config()` method in the subclassed Model for proper saving and loading. Defaulting to empty config.\n",
      "8036/8036 [==============================] - 526s 65ms/step - loss: 0.3397 - distortion: 0.0710 - rate: 1.7912 - beta: 0.1500 - val_loss: 0.5866 - val_distortion: 0.2262 - val_rate: 2.4024\n",
      "Epoch 17/40\n",
      "8036/8036 [==============================] - ETA: 0s - loss: 0.3379 - distortion: 0.0703 - rate: 1.7838 - beta: 0.1500\n",
      "🧩 Codebook usage after epoch 17: 70/128\n",
      "WARNING:tensorflow:Model's `__init__()` arguments contain non-serializable objects. Please implement a `get_config()` method in the subclassed Model for proper saving and loading. Defaulting to empty config.\n",
      "WARNING:tensorflow:Model's `__init__()` arguments contain non-serializable objects. Please implement a `get_config()` method in the subclassed Model for proper saving and loading. Defaulting to empty config.\n",
      "8036/8036 [==============================] - 533s 66ms/step - loss: 0.3379 - distortion: 0.0703 - rate: 1.7838 - beta: 0.1500 - val_loss: 0.5835 - val_distortion: 0.2269 - val_rate: 2.3771\n",
      "Epoch 18/40\n",
      "8036/8036 [==============================] - ETA: 0s - loss: 0.3358 - distortion: 0.0696 - rate: 1.7745 - beta: 0.1500\n",
      "🧩 Codebook usage after epoch 18: 71/128\n",
      "WARNING:tensorflow:Model's `__init__()` arguments contain non-serializable objects. Please implement a `get_config()` method in the subclassed Model for proper saving and loading. Defaulting to empty config.\n",
      "WARNING:tensorflow:Model's `__init__()` arguments contain non-serializable objects. Please implement a `get_config()` method in the subclassed Model for proper saving and loading. Defaulting to empty config.\n",
      "8036/8036 [==============================] - 543s 68ms/step - loss: 0.3358 - distortion: 0.0696 - rate: 1.7745 - beta: 0.1500 - val_loss: 0.5883 - val_distortion: 0.2266 - val_rate: 2.4109\n",
      "Epoch 19/40\n",
      "8036/8036 [==============================] - ETA: 0s - loss: 0.3343 - distortion: 0.0690 - rate: 1.7687 - beta: 0.1500\n",
      "🧩 Codebook usage after epoch 19: 73/128\n",
      "WARNING:tensorflow:Model's `__init__()` arguments contain non-serializable objects. Please implement a `get_config()` method in the subclassed Model for proper saving and loading. Defaulting to empty config.\n",
      "WARNING:tensorflow:Model's `__init__()` arguments contain non-serializable objects. Please implement a `get_config()` method in the subclassed Model for proper saving and loading. Defaulting to empty config.\n",
      "8036/8036 [==============================] - 533s 66ms/step - loss: 0.3343 - distortion: 0.0690 - rate: 1.7687 - beta: 0.1500 - val_loss: 0.5910 - val_distortion: 0.2300 - val_rate: 2.4062\n",
      "Epoch 20/40\n",
      "8036/8036 [==============================] - ETA: 0s - loss: 0.3326 - distortion: 0.0683 - rate: 1.7616 - beta: 0.1500\n",
      "🧩 Codebook usage after epoch 20: 69/128\n",
      "WARNING:tensorflow:Model's `__init__()` arguments contain non-serializable objects. Please implement a `get_config()` method in the subclassed Model for proper saving and loading. Defaulting to empty config.\n",
      "WARNING:tensorflow:Model's `__init__()` arguments contain non-serializable objects. Please implement a `get_config()` method in the subclassed Model for proper saving and loading. Defaulting to empty config.\n",
      "8036/8036 [==============================] - 532s 66ms/step - loss: 0.3326 - distortion: 0.0683 - rate: 1.7616 - beta: 0.1500 - val_loss: 0.5883 - val_distortion: 0.2287 - val_rate: 2.3975\n",
      "Epoch 21/40\n",
      "8036/8036 [==============================] - ETA: 0s - loss: 0.3309 - distortion: 0.0678 - rate: 1.7544 - beta: 0.1500\n",
      "🧩 Codebook usage after epoch 21: 69/128\n",
      "WARNING:tensorflow:Model's `__init__()` arguments contain non-serializable objects. Please implement a `get_config()` method in the subclassed Model for proper saving and loading. Defaulting to empty config.\n",
      "WARNING:tensorflow:Model's `__init__()` arguments contain non-serializable objects. Please implement a `get_config()` method in the subclassed Model for proper saving and loading. Defaulting to empty config.\n",
      "8036/8036 [==============================] - 532s 66ms/step - loss: 0.3309 - distortion: 0.0678 - rate: 1.7544 - beta: 0.1500 - val_loss: 0.5923 - val_distortion: 0.2284 - val_rate: 2.4261\n",
      "Epoch 22/40\n",
      "8036/8036 [==============================] - ETA: 0s - loss: 0.3292 - distortion: 0.0672 - rate: 1.7462 - beta: 0.1500\n",
      "🧩 Codebook usage after epoch 22: 72/128\n",
      "WARNING:tensorflow:Model's `__init__()` arguments contain non-serializable objects. Please implement a `get_config()` method in the subclassed Model for proper saving and loading. Defaulting to empty config.\n",
      "WARNING:tensorflow:Model's `__init__()` arguments contain non-serializable objects. Please implement a `get_config()` method in the subclassed Model for proper saving and loading. Defaulting to empty config.\n",
      "8036/8036 [==============================] - 535s 67ms/step - loss: 0.3292 - distortion: 0.0672 - rate: 1.7462 - beta: 0.1500 - val_loss: 0.5909 - val_distortion: 0.2307 - val_rate: 2.4013\n",
      "Epoch 23/40\n",
      "8035/8036 [============================>.] - ETA: 0s - loss: 0.3272 - distortion: 0.0668 - rate: 1.7359 - beta: 0.1500\n",
      "🧩 Codebook usage after epoch 23: 74/128\n",
      "WARNING:tensorflow:Model's `__init__()` arguments contain non-serializable objects. Please implement a `get_config()` method in the subclassed Model for proper saving and loading. Defaulting to empty config.\n",
      "WARNING:tensorflow:Model's `__init__()` arguments contain non-serializable objects. Please implement a `get_config()` method in the subclassed Model for proper saving and loading. Defaulting to empty config.\n",
      "8036/8036 [==============================] - 538s 67ms/step - loss: 0.3272 - distortion: 0.0668 - rate: 1.7360 - beta: 0.1500 - val_loss: 0.5937 - val_distortion: 0.2291 - val_rate: 2.4310\n",
      "Epoch 24/40\n",
      "8036/8036 [==============================] - ETA: 0s - loss: 0.3256 - distortion: 0.0663 - rate: 1.7290 - beta: 0.1500\n",
      "🧩 Codebook usage after epoch 24: 71/128\n",
      "WARNING:tensorflow:Model's `__init__()` arguments contain non-serializable objects. Please implement a `get_config()` method in the subclassed Model for proper saving and loading. Defaulting to empty config.\n",
      "WARNING:tensorflow:Model's `__init__()` arguments contain non-serializable objects. Please implement a `get_config()` method in the subclassed Model for proper saving and loading. Defaulting to empty config.\n",
      "8036/8036 [==============================] - 531s 66ms/step - loss: 0.3256 - distortion: 0.0663 - rate: 1.7290 - beta: 0.1500 - val_loss: 0.5932 - val_distortion: 0.2297 - val_rate: 2.4228\n",
      "Epoch 25/40\n",
      "8036/8036 [==============================] - ETA: 0s - loss: 0.3244 - distortion: 0.0659 - rate: 1.7235 - beta: 0.1500\n",
      "🧩 Codebook usage after epoch 25: 69/128\n",
      "WARNING:tensorflow:Model's `__init__()` arguments contain non-serializable objects. Please implement a `get_config()` method in the subclassed Model for proper saving and loading. Defaulting to empty config.\n",
      "WARNING:tensorflow:Model's `__init__()` arguments contain non-serializable objects. Please implement a `get_config()` method in the subclassed Model for proper saving and loading. Defaulting to empty config.\n",
      "8036/8036 [==============================] - 538s 67ms/step - loss: 0.3244 - distortion: 0.0659 - rate: 1.7235 - beta: 0.1500 - val_loss: 0.6008 - val_distortion: 0.2336 - val_rate: 2.4482\n",
      "Epoch 26/40\n",
      "8035/8036 [============================>.] - ETA: 0s - loss: 0.3231 - distortion: 0.0654 - rate: 1.7177 - beta: 0.1500\n",
      "🧩 Codebook usage after epoch 26: 70/128\n",
      "WARNING:tensorflow:Model's `__init__()` arguments contain non-serializable objects. Please implement a `get_config()` method in the subclassed Model for proper saving and loading. Defaulting to empty config.\n",
      "WARNING:tensorflow:Model's `__init__()` arguments contain non-serializable objects. Please implement a `get_config()` method in the subclassed Model for proper saving and loading. Defaulting to empty config.\n",
      "8036/8036 [==============================] - 531s 66ms/step - loss: 0.3231 - distortion: 0.0654 - rate: 1.7177 - beta: 0.1500 - val_loss: 0.5993 - val_distortion: 0.2324 - val_rate: 2.4459\n",
      "Epoch 27/40\n",
      "8035/8036 [============================>.] - ETA: 0s - loss: 0.3218 - distortion: 0.0650 - rate: 1.7120 - beta: 0.1500\n",
      "🧩 Codebook usage after epoch 27: 70/128\n",
      "WARNING:tensorflow:Model's `__init__()` arguments contain non-serializable objects. Please implement a `get_config()` method in the subclassed Model for proper saving and loading. Defaulting to empty config.\n",
      "WARNING:tensorflow:Model's `__init__()` arguments contain non-serializable objects. Please implement a `get_config()` method in the subclassed Model for proper saving and loading. Defaulting to empty config.\n",
      "8036/8036 [==============================] - 529s 66ms/step - loss: 0.3218 - distortion: 0.0650 - rate: 1.7120 - beta: 0.1500 - val_loss: 0.5965 - val_distortion: 0.2313 - val_rate: 2.4343\n",
      "Epoch 28/40\n",
      "8036/8036 [==============================] - ETA: 0s - loss: 0.3212 - distortion: 0.0647 - rate: 1.7097 - beta: 0.1500\n",
      "🧩 Codebook usage after epoch 28: 71/128\n",
      "WARNING:tensorflow:Model's `__init__()` arguments contain non-serializable objects. Please implement a `get_config()` method in the subclassed Model for proper saving and loading. Defaulting to empty config.\n",
      "WARNING:tensorflow:Model's `__init__()` arguments contain non-serializable objects. Please implement a `get_config()` method in the subclassed Model for proper saving and loading. Defaulting to empty config.\n",
      "8036/8036 [==============================] - 518s 64ms/step - loss: 0.3212 - distortion: 0.0647 - rate: 1.7097 - beta: 0.1500 - val_loss: 0.6003 - val_distortion: 0.2332 - val_rate: 2.4471\n",
      "Epoch 29/40\n",
      "8035/8036 [============================>.] - ETA: 0s - loss: 0.3206 - distortion: 0.0643 - rate: 1.7087 - beta: 0.1500\n",
      "🧩 Codebook usage after epoch 29: 73/128\n",
      "WARNING:tensorflow:Model's `__init__()` arguments contain non-serializable objects. Please implement a `get_config()` method in the subclassed Model for proper saving and loading. Defaulting to empty config.\n",
      "WARNING:tensorflow:Model's `__init__()` arguments contain non-serializable objects. Please implement a `get_config()` method in the subclassed Model for proper saving and loading. Defaulting to empty config.\n",
      "8036/8036 [==============================] - 520s 65ms/step - loss: 0.3206 - distortion: 0.0643 - rate: 1.7087 - beta: 0.1500 - val_loss: 0.6003 - val_distortion: 0.2344 - val_rate: 2.4394\n",
      "Epoch 30/40\n",
      "8035/8036 [============================>.] - ETA: 0s - loss: 0.3201 - distortion: 0.0639 - rate: 1.7081 - beta: 0.1500\n",
      "🧩 Codebook usage after epoch 30: 71/128\n",
      "WARNING:tensorflow:Model's `__init__()` arguments contain non-serializable objects. Please implement a `get_config()` method in the subclassed Model for proper saving and loading. Defaulting to empty config.\n",
      "WARNING:tensorflow:Model's `__init__()` arguments contain non-serializable objects. Please implement a `get_config()` method in the subclassed Model for proper saving and loading. Defaulting to empty config.\n",
      "8036/8036 [==============================] - 531s 66ms/step - loss: 0.3201 - distortion: 0.0639 - rate: 1.7080 - beta: 0.1500 - val_loss: 0.6046 - val_distortion: 0.2357 - val_rate: 2.4590\n",
      "Epoch 31/40\n",
      "8036/8036 [==============================] - ETA: 0s - loss: 0.3193 - distortion: 0.0633 - rate: 1.7065 - beta: 0.1500\n",
      "🧩 Codebook usage after epoch 31: 73/128\n",
      "WARNING:tensorflow:Model's `__init__()` arguments contain non-serializable objects. Please implement a `get_config()` method in the subclassed Model for proper saving and loading. Defaulting to empty config.\n",
      "WARNING:tensorflow:Model's `__init__()` arguments contain non-serializable objects. Please implement a `get_config()` method in the subclassed Model for proper saving and loading. Defaulting to empty config.\n",
      "8036/8036 [==============================] - 542s 67ms/step - loss: 0.3193 - distortion: 0.0633 - rate: 1.7065 - beta: 0.1500 - val_loss: 0.6098 - val_distortion: 0.2373 - val_rate: 2.4837\n",
      "Epoch 32/40\n",
      "8036/8036 [==============================] - ETA: 0s - loss: 0.3185 - distortion: 0.0628 - rate: 1.7045 - beta: 0.1500\n",
      "🧩 Codebook usage after epoch 32: 74/128\n",
      "WARNING:tensorflow:Model's `__init__()` arguments contain non-serializable objects. Please implement a `get_config()` method in the subclassed Model for proper saving and loading. Defaulting to empty config.\n",
      "WARNING:tensorflow:Model's `__init__()` arguments contain non-serializable objects. Please implement a `get_config()` method in the subclassed Model for proper saving and loading. Defaulting to empty config.\n",
      "8036/8036 [==============================] - 536s 67ms/step - loss: 0.3185 - distortion: 0.0628 - rate: 1.7045 - beta: 0.1500 - val_loss: 0.6040 - val_distortion: 0.2341 - val_rate: 2.4660\n",
      "Epoch 33/40\n",
      "8035/8036 [============================>.] - ETA: 0s - loss: 0.3175 - distortion: 0.0623 - rate: 1.7013 - beta: 0.1500\n",
      "🧩 Codebook usage after epoch 33: 71/128\n",
      "WARNING:tensorflow:Model's `__init__()` arguments contain non-serializable objects. Please implement a `get_config()` method in the subclassed Model for proper saving and loading. Defaulting to empty config.\n",
      "WARNING:tensorflow:Model's `__init__()` arguments contain non-serializable objects. Please implement a `get_config()` method in the subclassed Model for proper saving and loading. Defaulting to empty config.\n",
      "8036/8036 [==============================] - 538s 67ms/step - loss: 0.3175 - distortion: 0.0623 - rate: 1.7013 - beta: 0.1500 - val_loss: 0.6028 - val_distortion: 0.2335 - val_rate: 2.4625\n",
      "Epoch 34/40\n",
      "8036/8036 [==============================] - ETA: 0s - loss: 0.3165 - distortion: 0.0618 - rate: 1.6983 - beta: 0.1500\n",
      "🧩 Codebook usage after epoch 34: 72/128\n",
      "WARNING:tensorflow:Model's `__init__()` arguments contain non-serializable objects. Please implement a `get_config()` method in the subclassed Model for proper saving and loading. Defaulting to empty config.\n",
      "WARNING:tensorflow:Model's `__init__()` arguments contain non-serializable objects. Please implement a `get_config()` method in the subclassed Model for proper saving and loading. Defaulting to empty config.\n",
      "8036/8036 [==============================] - 538s 67ms/step - loss: 0.3165 - distortion: 0.0618 - rate: 1.6983 - beta: 0.1500 - val_loss: 0.6013 - val_distortion: 0.2318 - val_rate: 2.4638\n",
      "Epoch 35/40\n",
      "8036/8036 [==============================] - ETA: 0s - loss: 0.3157 - distortion: 0.0613 - rate: 1.6962 - beta: 0.1500\n",
      "🧩 Codebook usage after epoch 35: 75/128\n",
      "WARNING:tensorflow:Model's `__init__()` arguments contain non-serializable objects. Please implement a `get_config()` method in the subclassed Model for proper saving and loading. Defaulting to empty config.\n",
      "WARNING:tensorflow:Model's `__init__()` arguments contain non-serializable objects. Please implement a `get_config()` method in the subclassed Model for proper saving and loading. Defaulting to empty config.\n",
      "8036/8036 [==============================] - 534s 66ms/step - loss: 0.3157 - distortion: 0.0613 - rate: 1.6962 - beta: 0.1500 - val_loss: 0.6074 - val_distortion: 0.2339 - val_rate: 2.4900\n",
      "Epoch 36/40\n",
      "8036/8036 [==============================] - ETA: 0s - loss: 0.3151 - distortion: 0.0608 - rate: 1.6950 - beta: 0.1500\n",
      "🧩 Codebook usage after epoch 36: 74/128\n",
      "WARNING:tensorflow:Model's `__init__()` arguments contain non-serializable objects. Please implement a `get_config()` method in the subclassed Model for proper saving and loading. Defaulting to empty config.\n",
      "WARNING:tensorflow:Model's `__init__()` arguments contain non-serializable objects. Please implement a `get_config()` method in the subclassed Model for proper saving and loading. Defaulting to empty config.\n",
      "8036/8036 [==============================] - 531s 66ms/step - loss: 0.3151 - distortion: 0.0608 - rate: 1.6950 - beta: 0.1500 - val_loss: 0.6031 - val_distortion: 0.2333 - val_rate: 2.4655\n",
      "Epoch 37/40\n",
      "8035/8036 [============================>.] - ETA: 0s - loss: 0.3140 - distortion: 0.0603 - rate: 1.6914 - beta: 0.1500\n",
      "🧩 Codebook usage after epoch 37: 71/128\n",
      "WARNING:tensorflow:Model's `__init__()` arguments contain non-serializable objects. Please implement a `get_config()` method in the subclassed Model for proper saving and loading. Defaulting to empty config.\n",
      "WARNING:tensorflow:Model's `__init__()` arguments contain non-serializable objects. Please implement a `get_config()` method in the subclassed Model for proper saving and loading. Defaulting to empty config.\n",
      "8036/8036 [==============================] - 533s 66ms/step - loss: 0.3140 - distortion: 0.0603 - rate: 1.6914 - beta: 0.1500 - val_loss: 0.6045 - val_distortion: 0.2332 - val_rate: 2.4752\n",
      "Epoch 38/40\n",
      "8036/8036 [==============================] - ETA: 0s - loss: 0.3133 - distortion: 0.0599 - rate: 1.6892 - beta: 0.1500\n",
      "🧩 Codebook usage after epoch 38: 71/128\n",
      "WARNING:tensorflow:Model's `__init__()` arguments contain non-serializable objects. Please implement a `get_config()` method in the subclassed Model for proper saving and loading. Defaulting to empty config.\n",
      "WARNING:tensorflow:Model's `__init__()` arguments contain non-serializable objects. Please implement a `get_config()` method in the subclassed Model for proper saving and loading. Defaulting to empty config.\n",
      "8036/8036 [==============================] - 531s 66ms/step - loss: 0.3133 - distortion: 0.0599 - rate: 1.6892 - beta: 0.1500 - val_loss: 0.6050 - val_distortion: 0.2343 - val_rate: 2.4715\n",
      "Epoch 39/40\n",
      "8036/8036 [==============================] - ETA: 0s - loss: 0.3125 - distortion: 0.0595 - rate: 1.6864 - beta: 0.1500\n",
      "🧩 Codebook usage after epoch 39: 75/128\n",
      "WARNING:tensorflow:Model's `__init__()` arguments contain non-serializable objects. Please implement a `get_config()` method in the subclassed Model for proper saving and loading. Defaulting to empty config.\n",
      "WARNING:tensorflow:Model's `__init__()` arguments contain non-serializable objects. Please implement a `get_config()` method in the subclassed Model for proper saving and loading. Defaulting to empty config.\n",
      "8036/8036 [==============================] - 530s 66ms/step - loss: 0.3125 - distortion: 0.0595 - rate: 1.6864 - beta: 0.1500 - val_loss: 0.6055 - val_distortion: 0.2349 - val_rate: 2.4706\n",
      "Epoch 40/40\n",
      "8035/8036 [============================>.] - ETA: 0s - loss: 0.3116 - distortion: 0.0592 - rate: 1.6825 - beta: 0.1500\n",
      "🧩 Codebook usage after epoch 40: 76/128\n",
      "WARNING:tensorflow:Model's `__init__()` arguments contain non-serializable objects. Please implement a `get_config()` method in the subclassed Model for proper saving and loading. Defaulting to empty config.\n",
      "WARNING:tensorflow:Model's `__init__()` arguments contain non-serializable objects. Please implement a `get_config()` method in the subclassed Model for proper saving and loading. Defaulting to empty config.\n",
      "8036/8036 [==============================] - 533s 66ms/step - loss: 0.3116 - distortion: 0.0592 - rate: 1.6825 - beta: 0.1500 - val_loss: 0.6086 - val_distortion: 0.2358 - val_rate: 2.4853\n"
     ]
    }
   ],
   "source": [
    "import os\n",
    "from tensorflow.keras.callbacks import EarlyStopping, ModelCheckpoint, TensorBoard\n",
    "\n",
    "# Output directory setup\n",
    "run_name = \"vqvae_mask_video_compression\"\n",
    "output_dir = os.path.join(\"training_runs\", run_name)\n",
    "os.makedirs(output_dir, exist_ok=True)\n",
    "\n",
    "# Callbacks\n",
    "callbacks = [\n",
    "   # BetaSchedulerCallback(vqvae),\n",
    "    CodebookUsageLogger(vqvae, val_ds),\n",
    "    EarlyStopping(monitor=\"val_loss\", patience=40, restore_best_weights=True),\n",
    "    ModelCheckpoint(\n",
    "    filepath=os.path.join(output_dir, \"epoch_{epoch:02d}.weights.h5\"),\n",
    "    monitor=\"val_loss\",\n",
    "    save_best_only=False,\n",
    "    save_weights_only=True\n",
    "    ),\n",
    "    TensorBoard(log_dir=os.path.join(output_dir, \"logs\"))\n",
    "]\n",
    "\n",
    "history = vqvae.fit(\n",
    "    train_ds,\n",
    "    validation_data=val_ds,\n",
    "    epochs=40,\n",
    "    callbacks=callbacks\n",
    ")"
   ]
  },
  {
   "cell_type": "code",
   "execution_count": 16,
   "id": "ff6f2084",
   "metadata": {},
   "outputs": [
    {
     "name": "stdout",
     "output_type": "stream",
     "text": [
      "WARNING:tensorflow:Model's `__init__()` arguments contain non-serializable objects. Please implement a `get_config()` method in the subclassed Model for proper saving and loading. Defaulting to empty config.\n",
      "WARNING:tensorflow:Model's `__init__()` arguments contain non-serializable objects. Please implement a `get_config()` method in the subclassed Model for proper saving and loading. Defaulting to empty config.\n",
      "✓ Weights loaded from: training_runs/vqvae_nova_video_compression/epoch_20.weights.h5\n"
     ]
    }
   ],
   "source": [
    "import os\n",
    "\n",
    "# Path to saved weights from epoch 6\n",
    "weights_path = os.path.join(\n",
    "    \"training_runs\", \n",
    "    \"vqvae_nova_video_compression\", \n",
    "    \"epoch_20.weights.h5\"\n",
    ")\n",
    "\n",
    "# Load into your VQ-VAE model\n",
    "vqvae.load_weights(weights_path)\n",
    "print(\"✓ Weights loaded from:\", weights_path)"
   ]
  },
  {
   "cell_type": "code",
   "execution_count": 17,
   "id": "be271fda",
   "metadata": {},
   "outputs": [
    {
     "name": "stdout",
     "output_type": "stream",
     "text": [
      "109/109 [==============================] - 1s 7ms/step\n",
      "📹 Evaluating: celebv_-eDeQp6hees_1.mp4 — 109 sequences\n",
      "Setting up [LPIPS] perceptual loss: trunk [alex], v[0.1], spatial [off]\n"
     ]
    },
    {
     "name": "stderr",
     "output_type": "stream",
     "text": [
      "/home/nchanak/miniconda3/envs/tf-gpu/lib/python3.10/site-packages/torchvision/models/_utils.py:208: UserWarning: The parameter 'pretrained' is deprecated since 0.13 and may be removed in the future, please use 'weights' instead.\n",
      "  warnings.warn(\n",
      "/home/nchanak/miniconda3/envs/tf-gpu/lib/python3.10/site-packages/torchvision/models/_utils.py:223: UserWarning: Arguments other than a weight enum or `None` for 'weights' are deprecated since 0.13 and may be removed in the future. The current behavior is equivalent to passing `weights=AlexNet_Weights.IMAGENET1K_V1`. You can also use `weights=AlexNet_Weights.DEFAULT` to get the most up-to-date weights.\n",
      "  warnings.warn(msg)\n"
     ]
    },
    {
     "name": "stdout",
     "output_type": "stream",
     "text": [
      "Loading model from: /home/nchanak/miniconda3/envs/tf-gpu/lib/python3.10/site-packages/lpips/weights/v0.1/alex.pth\n"
     ]
    },
    {
     "name": "stderr",
     "output_type": "stream",
     "text": [
      "2025-05-01 01:39:38.941990: W tensorflow/compiler/mlir/tools/kernel_gen/transforms/gpu_kernel_to_blob_pass.cc:191] Failed to compile generated PTX with ptxas. Falling back to compilation by driver.\n",
      "2025-05-01 01:39:38.942117: W tensorflow/compiler/mlir/tools/kernel_gen/transforms/gpu_kernel_to_blob_pass.cc:191] Failed to compile generated PTX with ptxas. Falling back to compilation by driver.\n",
      "2025-05-01 01:39:38.942156: W tensorflow/compiler/mlir/tools/kernel_gen/transforms/gpu_kernel_to_blob_pass.cc:191] Failed to compile generated PTX with ptxas. Falling back to compilation by driver.\n",
      "2025-05-01 01:39:38.942193: W tensorflow/compiler/mlir/tools/kernel_gen/transforms/gpu_kernel_to_blob_pass.cc:191] Failed to compile generated PTX with ptxas. Falling back to compilation by driver.\n",
      "2025-05-01 01:39:38.942233: W tensorflow/compiler/mlir/tools/kernel_gen/transforms/gpu_kernel_to_blob_pass.cc:191] Failed to compile generated PTX with ptxas. Falling back to compilation by driver.\n",
      "2025-05-01 01:39:38.942268: W tensorflow/compiler/mlir/tools/kernel_gen/transforms/gpu_kernel_to_blob_pass.cc:191] Failed to compile generated PTX with ptxas. Falling back to compilation by driver.\n",
      "2025-05-01 01:39:38.942312: W tensorflow/compiler/mlir/tools/kernel_gen/transforms/gpu_kernel_to_blob_pass.cc:191] Failed to compile generated PTX with ptxas. Falling back to compilation by driver.\n",
      "2025-05-01 01:39:38.942403: W tensorflow/compiler/mlir/tools/kernel_gen/transforms/gpu_kernel_to_blob_pass.cc:191] Failed to compile generated PTX with ptxas. Falling back to compilation by driver.\n"
     ]
    },
    {
     "name": "stdout",
     "output_type": "stream",
     "text": [
      "152/152 [==============================] - 1s 6ms/step\n",
      "📹 Evaluating: celebv_-_Bdf9C0SAU_2.mp4 — 152 sequences\n",
      "Setting up [LPIPS] perceptual loss: trunk [alex], v[0.1], spatial [off]\n",
      "Loading model from: /home/nchanak/miniconda3/envs/tf-gpu/lib/python3.10/site-packages/lpips/weights/v0.1/alex.pth\n",
      "99/99 [==============================] - 1s 6ms/step\n",
      "📹 Evaluating: celebv_-Z1lkcEEF_w_2.mp4 — 99 sequences\n",
      "Setting up [LPIPS] perceptual loss: trunk [alex], v[0.1], spatial [off]\n",
      "Loading model from: /home/nchanak/miniconda3/envs/tf-gpu/lib/python3.10/site-packages/lpips/weights/v0.1/alex.pth\n",
      "276/276 [==============================] - 2s 7ms/step\n",
      "📹 Evaluating: celebv_-edZKfoS2V4_3.mp4 — 276 sequences\n",
      "Setting up [LPIPS] perceptual loss: trunk [alex], v[0.1], spatial [off]\n",
      "Loading model from: /home/nchanak/miniconda3/envs/tf-gpu/lib/python3.10/site-packages/lpips/weights/v0.1/alex.pth\n",
      "71/71 [==============================] - 0s 7ms/step\n",
      "📹 Evaluating: celebv_-a-SZLSDFWk_3.mp4 — 71 sequences\n",
      "Setting up [LPIPS] perceptual loss: trunk [alex], v[0.1], spatial [off]\n",
      "Loading model from: /home/nchanak/miniconda3/envs/tf-gpu/lib/python3.10/site-packages/lpips/weights/v0.1/alex.pth\n"
     ]
    },
    {
     "data": {
      "text/plain": [
       "{'celebv_-eDeQp6hees_1.mp4': {'psnr': 27.819674,\n",
       "  'ssim': 0.87506837,\n",
       "  'lpips': 0.11237819186932997},\n",
       " 'celebv_-_Bdf9C0SAU_2.mp4': {'psnr': 28.902382,\n",
       "  'ssim': 0.8461946,\n",
       "  'lpips': 0.07466398294108283},\n",
       " 'celebv_-Z1lkcEEF_w_2.mp4': {'psnr': 33.410316,\n",
       "  'ssim': 0.8946481,\n",
       "  'lpips': 0.054629824641678065},\n",
       " 'celebv_-edZKfoS2V4_3.mp4': {'psnr': 24.103785,\n",
       "  'ssim': 0.75526816,\n",
       "  'lpips': 0.1822023667746048},\n",
       " 'celebv_-a-SZLSDFWk_3.mp4': {'psnr': 21.47166,\n",
       "  'ssim': 0.7477452,\n",
       "  'lpips': 0.09840245969908339}}"
      ]
     },
     "execution_count": 17,
     "metadata": {},
     "output_type": "execute_result"
    }
   ],
   "source": [
    "metrics_val = metrics.evaluate_metrics_by_video(\n",
    "    split=\"val\",\n",
    "    limit=5,\n",
    "    video_data=video_data,\n",
    "    video_filenames=video_filenames,\n",
    "    autoencoder=vqvae,\n",
    "    sequence_length=sequence_length,\n",
    "    height=height,\n",
    "    width=width\n",
    ")\n",
    "metrics_val"
   ]
  },
  {
   "cell_type": "code",
   "execution_count": null,
   "id": "a81e7340",
   "metadata": {},
   "outputs": [],
   "source": [
    "import json\n",
    "import numpy as np\n",
    "\n",
    "def convert_numpy(obj):\n",
    "    if isinstance(obj, dict):\n",
    "        return {k: convert_numpy(v) for k, v in obj.items()}\n",
    "    elif isinstance(obj, list):\n",
    "        return [convert_numpy(v) for v in obj]\n",
    "    elif isinstance(obj, (np.float32, np.float64)):\n",
    "        return float(obj)\n",
    "    elif isinstance(obj, (np.int32, np.int64)):\n",
    "        return int(obj)\n",
    "    return obj\n",
    "\n",
    "metrics_val_converted = convert_numpy(metrics_val)\n",
    "\n",
    "with open(\"vqvae_train_metrics.json\", \"w\") as f:\n",
    "    json.dump(metrics_val_converted, f, indent=4)\n"
   ]
  },
  {
   "cell_type": "code",
   "execution_count": 16,
   "id": "894ec466",
   "metadata": {},
   "outputs": [
    {
     "name": "stdout",
     "output_type": "stream",
     "text": [
      "📊 Average Metrics Comparison\n",
      "Train - PSNR: 23.92, SSIM: 0.8165, LPIPS: 0.1077\n",
      "Val   - PSNR: 24.29, SSIM: 0.7925, LPIPS: 0.1303\n"
     ]
    }
   ],
   "source": [
    "import json\n",
    "import numpy as np\n",
    "\n",
    "# Load JSON files\n",
    "with open(\"vqvae_train_metrics.json\", \"r\") as f:\n",
    "    train_metrics = json.load(f)\n",
    "\n",
    "with open(\"vqvae_val_metrics.json\", \"r\") as f:\n",
    "    val_metrics = json.load(f)\n",
    "\n",
    "# Helper to average metrics over videos\n",
    "def average_metrics(metric_dict):\n",
    "    psnr_vals = [v[\"psnr\"] for v in metric_dict.values()]\n",
    "    ssim_vals = [v[\"ssim\"] for v in metric_dict.values()]\n",
    "    lpips_vals = [v[\"lpips\"] for v in metric_dict.values()]\n",
    "    \n",
    "    return {\n",
    "        \"psnr\": np.mean(psnr_vals),\n",
    "        \"ssim\": np.mean(ssim_vals),\n",
    "        \"lpips\": np.mean(lpips_vals)\n",
    "    }\n",
    "\n",
    "# Compute averages\n",
    "avg_train = average_metrics(train_metrics)\n",
    "avg_val = average_metrics(val_metrics)\n",
    "\n",
    "# Print comparison\n",
    "print(\"📊 Average Metrics Comparison\")\n",
    "print(f\"Train - PSNR: {avg_train['psnr']:.2f}, SSIM: {avg_train['ssim']:.4f}, LPIPS: {avg_train['lpips']:.4f}\")\n",
    "print(f\"Val   - PSNR: {avg_val['psnr']:.2f}, SSIM: {avg_val['ssim']:.4f}, LPIPS: {avg_val['lpips']:.4f}\")\n"
   ]
  },
  {
   "cell_type": "code",
   "execution_count": null,
   "id": "4243d9eb",
   "metadata": {},
   "outputs": [
    {
     "name": "stdout",
     "output_type": "stream",
     "text": [
      "107/107 [==============================] - 1s 6ms/step\n",
      "🎞️ Evaluating metrics for: celebv_-bDW55dxoCg_0.mp4 — 107 sequences\n",
      "Setting up [LPIPS] perceptual loss: trunk [alex], v[0.1], spatial [off]\n"
     ]
    },
    {
     "name": "stderr",
     "output_type": "stream",
     "text": [
      "/home/nchanak/miniconda3/envs/tf-gpu/lib/python3.10/site-packages/torchvision/models/_utils.py:208: UserWarning: The parameter 'pretrained' is deprecated since 0.13 and may be removed in the future, please use 'weights' instead.\n",
      "  warnings.warn(\n",
      "/home/nchanak/miniconda3/envs/tf-gpu/lib/python3.10/site-packages/torchvision/models/_utils.py:223: UserWarning: Arguments other than a weight enum or `None` for 'weights' are deprecated since 0.13 and may be removed in the future. The current behavior is equivalent to passing `weights=AlexNet_Weights.IMAGENET1K_V1`. You can also use `weights=AlexNet_Weights.DEFAULT` to get the most up-to-date weights.\n",
      "  warnings.warn(msg)\n"
     ]
    },
    {
     "name": "stdout",
     "output_type": "stream",
     "text": [
      "Loading model from: /home/nchanak/miniconda3/envs/tf-gpu/lib/python3.10/site-packages/lpips/weights/v0.1/alex.pth\n",
      "📊 Metrics for celebv_-bDW55dxoCg_0.mp4:\n",
      " {'psnr': 29.500128, 'ssim': 0.8268457, 'lpips': 0.10635009477628726}\n"
     ]
    }
   ],
   "source": [
    "import metrics\n",
    "importlib.reload(metrics)\n",
    "video_name = \"celebv_-bDW55dxoCg_0.mp4\"\n",
    "\n",
    "metrics = metrics.evaluate_single_video_metrics(\n",
    "    video_name=video_name,\n",
    "    video_data=video_data,\n",
    "    video_filenames=video_filenames,\n",
    "    autoencoder=vqvae,\n",
    "    sequence_length=sequence_length,\n",
    "    height=height,\n",
    "    width=width,\n",
    "    channels=channels\n",
    ")\n",
    "\n",
    "print(f\"📊 Metrics for {video_name}:\\n\", metrics)\n"
   ]
  },
  {
   "cell_type": "code",
   "execution_count": 9,
   "id": "27253606",
   "metadata": {},
   "outputs": [
    {
     "name": "stdout",
     "output_type": "stream",
     "text": [
      "Evaluating compression on 3 val videos...\n",
      "\n",
      "669/669 [==============================] - 17s 25ms/step\n",
      "138/138 [==============================] - 4s 26ms/step\n",
      "217/217 [==============================] - 6s 26ms/step\n"
     ]
    },
    {
     "data": {
      "text/plain": [
       "{'celebv_-a_GdyL1yHo_1_0.mp4': {'video': 'celebv_-a_GdyL1yHo_1_0.mp4',\n",
       "  'num_sequences': 669,\n",
       "  'num_frames': 2676,\n",
       "  'input_kb_estimated': 30269.11749241926,\n",
       "  'codec_kb': 1384.8486328125,\n",
       "  'latent_kb_raw': 334.5,\n",
       "  'latent_kb_estimated': 142.6277618408203,\n",
       "  'compression_ratio_codec': 21.85734727624742,\n",
       "  'compression_ratio_latent': 212.2245844830763,\n",
       "  'vq_time_secs': 19.848833799362183},\n",
       " 'celebv_-a-SZLSDFWk_7.mp4': {'video': 'celebv_-a-SZLSDFWk_7.mp4',\n",
       "  'num_sequences': 138,\n",
       "  'num_frames': 552,\n",
       "  'input_kb_estimated': 6169.8382917643,\n",
       "  'codec_kb': 226.6650390625,\n",
       "  'latent_kb_raw': 69.0,\n",
       "  'latent_kb_estimated': 28.62725067138672,\n",
       "  'compression_ratio_codec': 27.220070273223943,\n",
       "  'compression_ratio_latent': 215.5232565847173,\n",
       "  'vq_time_secs': 4.0452117919921875},\n",
       " 'celebv_-bQLjUP0eRc_30_0.mp4': {'video': 'celebv_-bQLjUP0eRc_30_0.mp4',\n",
       "  'num_sequences': 217,\n",
       "  'num_frames': 868,\n",
       "  'input_kb_estimated': 9929.276954312934,\n",
       "  'codec_kb': 360.203125,\n",
       "  'latent_kb_raw': 108.5,\n",
       "  'latent_kb_estimated': 46.850311279296875,\n",
       "  'compression_ratio_codec': 27.5657712695106,\n",
       "  'compression_ratio_latent': 211.9362002766602,\n",
       "  'vq_time_secs': 6.509044885635376}}"
      ]
     },
     "execution_count": 9,
     "metadata": {},
     "output_type": "execute_result"
    }
   ],
   "source": [
    "import importlib\n",
    "import analyze_compression\n",
    "\n",
    "importlib.reload(analyze_compression)\n",
    "with tf.device('/CPU:0'):\n",
    "    compression_results = analyze_compression.evaluate_compression_by_video(\n",
    "        split=\"val\",\n",
    "        limit=3,\n",
    "        video_data=video_data,\n",
    "        video_filenames=video_filenames,\n",
    "        autoencoder=vqvae,\n",
    "        encoder=encoder,\n",
    "        sequence_length=sequence_length,\n",
    "        height=height,\n",
    "        width=width\n",
    "    )\n",
    "compression_results"
   ]
  },
  {
   "cell_type": "code",
   "execution_count": 20,
   "id": "d886d644",
   "metadata": {},
   "outputs": [
    {
     "name": "stdout",
     "output_type": "stream",
     "text": [
      "4/4 [==============================] - 0s 105ms/step\n",
      "[✓] Comparison saved: comparison_celebv_-bDW55dxoCg_0.avi\n",
      "[▶] Converting comparison_celebv_-bDW55dxoCg_0.avi → comparisons/comparison_celebv_-bDW55dxoCg_0.mp4\n",
      "Deleted: comparison_celebv_-bDW55dxoCg_0.avi\n"
     ]
    },
    {
     "name": "stderr",
     "output_type": "stream",
     "text": [
      "ffmpeg version 4.4.2-0ubuntu0.22.04.1 Copyright (c) 2000-2021 the FFmpeg developers\n",
      "  built with gcc 11 (Ubuntu 11.2.0-19ubuntu1)\n",
      "  configuration: --prefix=/usr --extra-version=0ubuntu0.22.04.1 --toolchain=hardened --libdir=/usr/lib/x86_64-linux-gnu --incdir=/usr/include/x86_64-linux-gnu --arch=amd64 --enable-gpl --disable-stripping --enable-gnutls --enable-ladspa --enable-libaom --enable-libass --enable-libbluray --enable-libbs2b --enable-libcaca --enable-libcdio --enable-libcodec2 --enable-libdav1d --enable-libflite --enable-libfontconfig --enable-libfreetype --enable-libfribidi --enable-libgme --enable-libgsm --enable-libjack --enable-libmp3lame --enable-libmysofa --enable-libopenjpeg --enable-libopenmpt --enable-libopus --enable-libpulse --enable-librabbitmq --enable-librubberband --enable-libshine --enable-libsnappy --enable-libsoxr --enable-libspeex --enable-libsrt --enable-libssh --enable-libtheora --enable-libtwolame --enable-libvidstab --enable-libvorbis --enable-libvpx --enable-libwebp --enable-libx265 --enable-libxml2 --enable-libxvid --enable-libzimg --enable-libzmq --enable-libzvbi --enable-lv2 --enable-omx --enable-openal --enable-opencl --enable-opengl --enable-sdl2 --enable-pocketsphinx --enable-librsvg --enable-libmfx --enable-libdc1394 --enable-libdrm --enable-libiec61883 --enable-chromaprint --enable-frei0r --enable-libx264 --enable-shared\n",
      "  libavutil      56. 70.100 / 56. 70.100\n",
      "  libavcodec     58.134.100 / 58.134.100\n",
      "  libavformat    58. 76.100 / 58. 76.100\n",
      "  libavdevice    58. 13.100 / 58. 13.100\n",
      "  libavfilter     7.110.100 /  7.110.100\n",
      "  libswscale      5.  9.100 /  5.  9.100\n",
      "  libswresample   3.  9.100 /  3.  9.100\n",
      "  libpostproc    55.  9.100 / 55.  9.100\n",
      "Input #0, avi, from 'comparison_celebv_-bDW55dxoCg_0.avi':\n",
      "  Metadata:\n",
      "    software        : Lavf59.27.100\n",
      "  Duration: 00:00:04.50, start: 0.000000, bitrate: 49 kb/s\n",
      "  Stream #0:0: Video: mpeg4 (Simple Profile) (XVID / 0x44495658), yuv420p, 128x64 [SAR 1:1 DAR 2:1], 24 fps, 24 tbr, 24 tbn, 24 tbc\n",
      "Stream mapping:\n",
      "  Stream #0:0 -> #0:0 (mpeg4 (native) -> h264 (libx264))\n",
      "Press [q] to stop, [?] for help\n",
      "[libx264 @ 0x56154da04640] using SAR=1/1\n",
      "[libx264 @ 0x56154da04640] using cpu capabilities: MMX2 SSE2Fast SSSE3 SSE4.2 AVX FMA3 BMI2 AVX2 AVX512\n",
      "[libx264 @ 0x56154da04640] profile High, level 2.1, 4:2:0, 8-bit\n",
      "[libx264 @ 0x56154da04640] 264 - core 163 r3060 5db6aa6 - H.264/MPEG-4 AVC codec - Copyleft 2003-2021 - http://www.videolan.org/x264.html - options: cabac=1 ref=3 deblock=1:0:0 analyse=0x3:0x113 me=hex subme=7 psy=1 psy_rd=1.00:0.00 mixed_ref=1 me_range=16 chroma_me=1 trellis=1 8x8dct=1 cqm=0 deadzone=21,11 fast_pskip=1 chroma_qp_offset=-2 threads=8 lookahead_threads=1 sliced_threads=0 nr=0 decimate=1 interlaced=0 bluray_compat=0 constrained_intra=0 bframes=3 b_pyramid=2 b_adapt=1 b_bias=0 direct=1 weightb=1 open_gop=0 weightp=2 keyint=250 keyint_min=24 scenecut=40 intra_refresh=0 rc_lookahead=40 rc=crf mbtree=1 crf=23.0 qcomp=0.60 qpmin=0 qpmax=69 qpstep=4 ip_ratio=1.40 aq=1:1.00\n",
      "Output #0, mp4, to 'comparisons/comparison_celebv_-bDW55dxoCg_0.mp4':\n",
      "  Metadata:\n",
      "    software        : Lavf59.27.100\n",
      "    encoder         : Lavf58.76.100\n",
      "  Stream #0:0: Video: h264 (avc1 / 0x31637661), yuv420p(tv, progressive), 512x256 [SAR 1:1 DAR 2:1], q=2-31, 24 fps, 12288 tbn\n",
      "    Metadata:\n",
      "      encoder         : Lavc58.134.100 libx264\n",
      "    Side data:\n",
      "      cpb: bitrate max/min/avg: 0/0/0 buffer size: 0 vbv_delay: N/A\n",
      "frame=  108 fps=0.0 q=-1.0 Lsize=      79kB time=00:00:04.37 bitrate= 148.0kbits/s speed=35.4x    \n",
      "video:77kB audio:0kB subtitle:0kB other streams:0kB global headers:0kB muxing overhead: 2.747553%\n",
      "[libx264 @ 0x56154da04640] frame I:1     Avg QP:18.92  size:  2336\n",
      "[libx264 @ 0x56154da04640] frame P:27    Avg QP:20.37  size:  1516\n",
      "[libx264 @ 0x56154da04640] frame B:80    Avg QP:22.50  size:   435\n",
      "[libx264 @ 0x56154da04640] consecutive B-frames:  0.9%  0.0%  2.8% 96.3%\n",
      "[libx264 @ 0x56154da04640] mb I  I16..4: 31.6% 68.0%  0.4%\n",
      "[libx264 @ 0x56154da04640] mb P  I16..4:  6.5% 16.7%  0.1%  P16..4: 30.1%  9.5%  3.7%  0.0%  0.0%    skip:33.4%\n",
      "[libx264 @ 0x56154da04640] mb B  I16..4:  0.2%  0.3%  0.0%  B16..8: 28.0%  2.4%  0.2%  direct: 2.2%  skip:66.8%  L0:54.8% L1:41.4% BI: 3.8%\n",
      "[libx264 @ 0x56154da04640] 8x8 transform intra:70.9% inter:98.8%\n",
      "[libx264 @ 0x56154da04640] coded y,uvDC,uvAC intra: 29.7% 36.3% 1.0% inter: 7.1% 10.9% 0.0%\n",
      "[libx264 @ 0x56154da04640] i16 v,h,dc,p: 34% 28% 15% 22%\n",
      "[libx264 @ 0x56154da04640] i8 v,h,dc,ddl,ddr,vr,hd,vl,hu: 30% 17% 27%  4%  4%  5%  3%  6%  4%\n",
      "[libx264 @ 0x56154da04640] i4 v,h,dc,ddl,ddr,vr,hd,vl,hu: 30% 22% 30%  0%  3%  5%  4%  3%  2%\n",
      "[libx264 @ 0x56154da04640] i8c dc,h,v,p: 60% 14% 21%  6%\n",
      "[libx264 @ 0x56154da04640] Weighted P-Frames: Y:14.8% UV:11.1%\n",
      "[libx264 @ 0x56154da04640] ref P L0: 58.3%  7.5% 21.8% 10.4%  2.1%\n",
      "[libx264 @ 0x56154da04640] ref B L0: 83.2% 13.7%  3.1%\n",
      "[libx264 @ 0x56154da04640] ref B L1: 95.5%  4.5%\n",
      "[libx264 @ 0x56154da04640] kb/s:138.79\n"
     ]
    },
    {
     "data": {
      "text/html": [
       "\n",
       "    <video width=\"512\" height=\"256\" controls>\n",
       "      <source src=\"comparisons/comparison_celebv_-bDW55dxoCg_0.mp4\" type=\"video/mp4\">\n",
       "      Your browser does not support the video tag.\n",
       "    </video>\n",
       "    "
      ],
      "text/plain": [
       "<IPython.core.display.HTML object>"
      ]
     },
     "execution_count": 20,
     "metadata": {},
     "output_type": "execute_result"
    }
   ],
   "source": [
    "play_video = \"celebv_-bDW55dxoCg_0.mp4\"\n",
    "\n",
    "visualization.generate_and_display_comparison(\n",
    "    video_name=play_video,\n",
    "    autoencoder=vqvae,\n",
    "    sequence_length=sequence_length,\n",
    "    height=height,\n",
    "    width=width,\n",
    "    cleanup=True \n",
    ")"
   ]
  },
  {
   "cell_type": "code",
   "execution_count": 22,
   "id": "3897bedb",
   "metadata": {},
   "outputs": [
    {
     "name": "stdout",
     "output_type": "stream",
     "text": [
      "107/107 [==============================] - 0s 3ms/step\n",
      "z_q size (bytes): 3506176\n",
      "4/4 [==============================] - 0s 21ms/step\n"
     ]
    }
   ],
   "source": [
    "import aac\n",
    "import importlib\n",
    "importlib.reload(aac)\n",
    "\n",
    "val_filenames = video_filenames[split_index:]\n",
    "video_name = \"celebv_-bDW55dxoCg_0.mp4\"\n",
    "\n",
    "results = aac.analyze_with_aac(\n",
    "    video_name=video_name,\n",
    "    encoder=encoder,\n",
    "    decoder=decoder,\n",
    "    vq_layer=vq_layer,\n",
    "    pixelcnn_prior=pixelcnn_prior,\n",
    "    sequence_length=sequence_length,\n",
    "    height=height,\n",
    "    width=width\n",
    ")"
   ]
  },
  {
   "cell_type": "code",
   "execution_count": 23,
   "id": "7a87fb98",
   "metadata": {},
   "outputs": [
    {
     "name": "stdout",
     "output_type": "stream",
     "text": [
      "\n",
      "📝 AAC Compression Results for: celebv_-bDW55dxoCg_0.mp4\n",
      "\n",
      "  • Number of sequences:     107\n",
      "  • Total bytes (AAC):        129540.00 bytes\n",
      "  • Total size (AAC):         126.50 KB\n",
      "  • Compression ratio (AAC):  170286799.69x\n",
      "  • Reconstruction shape:     (107, 4, 64, 64, 3)\n",
      "\n",
      "✅ Done!\n",
      "\n"
     ]
    }
   ],
   "source": [
    "print(f\"\\n📝 AAC Compression Results for: {results['video']}\\n\")\n",
    "print(f\"  • Number of sequences:     {results['num_sequences']}\")\n",
    "print(f\"  • Total bytes (AAC):        {results['bytes_aac']:.2f} bytes\")\n",
    "print(f\"  • Total size (AAC):         {results['kb_aac']:.2f} KB\")\n",
    "print(f\"  • Compression ratio (AAC):  {results['compression_ratio_aac']:.2f}x\")\n",
    "print(f\"  • Reconstruction shape:     {results['reconstruction'].shape}\")\n",
    "print(\"\\n✅ Done!\\n\")"
   ]
  },
  {
   "cell_type": "markdown",
   "id": "0f96fa6c",
   "metadata": {},
   "source": [
    "Compute ssim of h264"
   ]
  },
  {
   "cell_type": "code",
   "execution_count": 54,
   "id": "09dfc131",
   "metadata": {},
   "outputs": [
    {
     "name": "stderr",
     "output_type": "stream",
     "text": [
      "ffmpeg version 4.4.2-0ubuntu0.22.04.1 Copyright (c) 2000-2021 the FFmpeg developers\n",
      "  built with gcc 11 (Ubuntu 11.2.0-19ubuntu1)\n",
      "  configuration: --prefix=/usr --extra-version=0ubuntu0.22.04.1 --toolchain=hardened --libdir=/usr/lib/x86_64-linux-gnu --incdir=/usr/include/x86_64-linux-gnu --arch=amd64 --enable-gpl --disable-stripping --enable-gnutls --enable-ladspa --enable-libaom --enable-libass --enable-libbluray --enable-libbs2b --enable-libcaca --enable-libcdio --enable-libcodec2 --enable-libdav1d --enable-libflite --enable-libfontconfig --enable-libfreetype --enable-libfribidi --enable-libgme --enable-libgsm --enable-libjack --enable-libmp3lame --enable-libmysofa --enable-libopenjpeg --enable-libopenmpt --enable-libopus --enable-libpulse --enable-librabbitmq --enable-librubberband --enable-libshine --enable-libsnappy --enable-libsoxr --enable-libspeex --enable-libsrt --enable-libssh --enable-libtheora --enable-libtwolame --enable-libvidstab --enable-libvorbis --enable-libvpx --enable-libwebp --enable-libx265 --enable-libxml2 --enable-libxvid --enable-libzimg --enable-libzmq --enable-libzvbi --enable-lv2 --enable-omx --enable-openal --enable-opencl --enable-opengl --enable-sdl2 --enable-pocketsphinx --enable-librsvg --enable-libmfx --enable-libdc1394 --enable-libdrm --enable-libiec61883 --enable-chromaprint --enable-frei0r --enable-libx264 --enable-shared\n",
      "  libavutil      56. 70.100 / 56. 70.100\n",
      "  libavcodec     58.134.100 / 58.134.100\n",
      "  libavformat    58. 76.100 / 58. 76.100\n",
      "  libavdevice    58. 13.100 / 58. 13.100\n",
      "  libavfilter     7.110.100 /  7.110.100\n",
      "  libswscale      5.  9.100 /  5.  9.100\n",
      "  libswresample   3.  9.100 /  3.  9.100\n",
      "  libpostproc    55.  9.100 / 55.  9.100\n",
      "Input #0, mov,mp4,m4a,3gp,3g2,mj2, from 'extracted_videos/celebv_-bDW55dxoCg_0.mp4':\n",
      "  Metadata:\n",
      "    major_brand     : isom\n",
      "    minor_version   : 512\n",
      "    compatible_brands: isomiso2avc1mp41\n",
      "    encoder         : Lavf56.25.101\n",
      "  Duration: 00:00:04.61, start: 0.000000, bitrate: 273 kb/s\n",
      "  Stream #0:0(und): Video: h264 (High) (avc1 / 0x31637661), yuv420p, 512x512 [SAR 1:1 DAR 1:1], 182 kb/s, 23.98 fps, 23.98 tbr, 11988 tbn, 47.95 tbc (default)\n",
      "    Metadata:\n",
      "      handler_name    : VideoHandler\n",
      "      vendor_id       : [0][0][0][0]\n",
      "  Stream #0:1(und): Audio: aac (LC) (mp4a / 0x6134706D), 44100 Hz, stereo, fltp, 84 kb/s (default)\n",
      "    Metadata:\n",
      "      handler_name    : SoundHandler\n",
      "      vendor_id       : [0][0][0][0]\n",
      "Stream mapping:\n",
      "  Stream #0:0 -> #0:0 (h264 (native) -> h264 (libx264))\n",
      "  Stream #0:1 -> #0:1 (aac (native) -> aac (native))\n",
      "Press [q] to stop, [?] for help\n",
      "[libx264 @ 0x55a51d28f100] using SAR=1/1\n",
      "[libx264 @ 0x55a51d28f100] using cpu capabilities: MMX2 SSE2Fast SSSE3 SSE4.2 AVX FMA3 BMI2 AVX2 AVX512\n",
      "[libx264 @ 0x55a51d28f100] profile High, level 1.0, 4:2:0, 8-bit\n",
      "[libx264 @ 0x55a51d28f100] 264 - core 163 r3060 5db6aa6 - H.264/MPEG-4 AVC codec - Copyleft 2003-2021 - http://www.videolan.org/x264.html - options: cabac=1 ref=3 deblock=1:0:0 analyse=0x3:0x113 me=hex subme=7 psy=1 psy_rd=1.00:0.00 mixed_ref=1 me_range=16 chroma_me=1 trellis=1 8x8dct=1 cqm=0 deadzone=21,11 fast_pskip=1 chroma_qp_offset=-2 threads=2 lookahead_threads=1 sliced_threads=0 nr=0 decimate=1 interlaced=0 bluray_compat=0 constrained_intra=0 bframes=3 b_pyramid=2 b_adapt=1 b_bias=0 direct=1 weightb=1 open_gop=0 weightp=2 keyint=250 keyint_min=23 scenecut=40 intra_refresh=0 rc_lookahead=40 rc=crf mbtree=1 crf=23.0 qcomp=0.60 qpmin=0 qpmax=69 qpstep=4 ip_ratio=1.40 aq=1:1.00\n",
      "Output #0, mp4, to 'temp_compressed_celebv_-bDW55dxoCg_0.mp4':\n",
      "  Metadata:\n",
      "    major_brand     : isom\n",
      "    minor_version   : 512\n",
      "    compatible_brands: isomiso2avc1mp41\n",
      "    encoder         : Lavf58.76.100\n",
      "  Stream #0:0(und): Video: h264 (avc1 / 0x31637661), yuv420p(tv, progressive), 64x64 [SAR 1:1 DAR 1:1], q=2-31, 23.98 fps, 11988 tbn (default)\n",
      "    Metadata:\n",
      "      handler_name    : VideoHandler\n",
      "      vendor_id       : [0][0][0][0]\n",
      "      encoder         : Lavc58.134.100 libx264\n",
      "    Side data:\n",
      "      cpb: bitrate max/min/avg: 0/0/0 buffer size: 0 vbv_delay: N/A\n",
      "  Stream #0:1(und): Audio: aac (LC) (mp4a / 0x6134706D), 44100 Hz, stereo, fltp, 128 kb/s (default)\n",
      "    Metadata:\n",
      "      handler_name    : SoundHandler\n",
      "      vendor_id       : [0][0][0][0]\n",
      "      encoder         : Lavc58.134.100 aac\n",
      "frame=  110 fps=0.0 q=-1.0 Lsize=      82kB time=00:00:04.57 bitrate= 146.2kbits/s speed=70.6x    \n",
      "video:5kB audio:72kB subtitle:0kB other streams:0kB global headers:0kB muxing overhead: 6.000685%\n",
      "[libx264 @ 0x55a51d28f100] frame I:1     Avg QP:19.19  size:   340\n",
      "[libx264 @ 0x55a51d28f100] frame P:51    Avg QP:18.21  size:    59\n",
      "[libx264 @ 0x55a51d28f100] frame B:58    Avg QP:19.09  size:    17\n",
      "[libx264 @ 0x55a51d28f100] consecutive B-frames: 27.3%  3.6% 10.9% 58.2%\n",
      "[libx264 @ 0x55a51d28f100] mb I  I16..4:  6.2% 75.0% 18.8%\n",
      "[libx264 @ 0x55a51d28f100] mb P  I16..4:  0.0%  0.2%  0.0%  P16..4: 23.7% 16.2%  7.1%  0.0%  0.0%    skip:52.8%\n",
      "[libx264 @ 0x55a51d28f100] mb B  I16..4:  0.0%  0.0%  0.0%  B16..8: 17.2%  0.5%  0.2%  direct: 0.2%  skip:81.9%  L0:25.7% L1:70.7% BI: 3.6%\n",
      "[libx264 @ 0x55a51d28f100] 8x8 transform intra:77.8% inter:62.9%\n",
      "[libx264 @ 0x55a51d28f100] coded y,uvDC,uvAC intra: 76.4% 83.3% 44.4% inter: 4.6% 2.6% 0.1%\n",
      "[libx264 @ 0x55a51d28f100] i16 v,h,dc,p: 100%  0%  0%  0%\n",
      "[libx264 @ 0x55a51d28f100] i8 v,h,dc,ddl,ddr,vr,hd,vl,hu:  2% 18% 34% 12%  7%  9%  2%  9%  7%\n",
      "[libx264 @ 0x55a51d28f100] i4 v,h,dc,ddl,ddr,vr,hd,vl,hu: 17% 12% 38%  4%  0%  6%  6%  8%  8%\n",
      "[libx264 @ 0x55a51d28f100] i8c dc,h,v,p: 78%  0% 17%  6%\n",
      "[libx264 @ 0x55a51d28f100] Weighted P-Frames: Y:0.0% UV:0.0%\n",
      "[libx264 @ 0x55a51d28f100] ref P L0: 72.8% 11.2% 12.3%  3.7%\n",
      "[libx264 @ 0x55a51d28f100] ref B L0: 88.1%  8.0%  4.0%\n",
      "[libx264 @ 0x55a51d28f100] ref B L1: 97.6%  2.4%\n",
      "[libx264 @ 0x55a51d28f100] kb/s:7.62\n",
      "[aac @ 0x55a51d2bab00] Qavg: 224.804\n"
     ]
    },
    {
     "name": "stdout",
     "output_type": "stream",
     "text": [
      "📉 Mean SSIM (H.264 vs original @ 64x64): 0.9558\n"
     ]
    },
    {
     "data": {
      "text/plain": [
       "0.9558126"
      ]
     },
     "execution_count": 54,
     "metadata": {},
     "output_type": "execute_result"
    }
   ],
   "source": [
    "import os\n",
    "import cv2\n",
    "import numpy as np\n",
    "import tensorflow as tf\n",
    "\n",
    "def compute_h264_ssim_comparison(video_name, height=64, width=64, crf=23, cleanup=True):\n",
    "    \"\"\"\n",
    "    Computes SSIM between original and H.264-compressed version of a video after resizing both to (height x width).\n",
    "    \"\"\"\n",
    "\n",
    "    # Paths\n",
    "    input_path = os.path.join(\"extracted_videos\", video_name)\n",
    "    resized_path = f\"temp_resized_{video_name}\"\n",
    "    compressed_path = f\"temp_compressed_{video_name}\"\n",
    "\n",
    "    # Step 1: Resize + Compress to H.264\n",
    "    resize_compress_cmd = (\n",
    "        f'ffmpeg -y -i \"{input_path}\" -vf scale={width}:{height} '\n",
    "        f'-c:v libx264 -crf {crf} -preset medium \"{compressed_path}\"'\n",
    "    )\n",
    "    os.system(resize_compress_cmd)\n",
    "\n",
    "    # Step 2: Extract original resized frames (using OpenCV resize for accurate baseline)\n",
    "    cap_orig = cv2.VideoCapture(input_path)\n",
    "    orig_frames = []\n",
    "    while True:\n",
    "        ret, frame = cap_orig.read()\n",
    "        if not ret:\n",
    "            break\n",
    "        resized = cv2.resize(frame, (width, height))\n",
    "        rgb = cv2.cvtColor(resized, cv2.COLOR_BGR2RGB)\n",
    "        orig_frames.append(rgb)\n",
    "    cap_orig.release()\n",
    "    orig_frames = np.array(orig_frames)\n",
    "\n",
    "    # Step 3: Extract H.264-compressed frames\n",
    "    cap_comp = cv2.VideoCapture(compressed_path)\n",
    "    comp_frames = []\n",
    "    while True:\n",
    "        ret, frame = cap_comp.read()\n",
    "        if not ret:\n",
    "            break\n",
    "        rgb = cv2.cvtColor(frame, cv2.COLOR_BGR2RGB)\n",
    "        comp_frames.append(rgb)\n",
    "    cap_comp.release()\n",
    "    comp_frames = np.array(comp_frames)\n",
    "\n",
    "    # Step 4: Match frame lengths\n",
    "    n = min(len(orig_frames), len(comp_frames))\n",
    "    orig_frames = orig_frames[:n]\n",
    "    comp_frames = comp_frames[:n]\n",
    "\n",
    "    # Step 5: Compute SSIM\n",
    "    ssim_scores = []\n",
    "    for o, c in zip(orig_frames, comp_frames):\n",
    "        o_tf = tf.convert_to_tensor(o[np.newaxis].astype(np.float32))\n",
    "        c_tf = tf.convert_to_tensor(c[np.newaxis].astype(np.float32))\n",
    "        score = tf.image.ssim(o_tf, c_tf, max_val=255.0).numpy()[0]\n",
    "        ssim_scores.append(score)\n",
    "\n",
    "    mean_ssim = np.mean(ssim_scores)\n",
    "    print(f\"📉 Mean SSIM (H.264 vs original @ {width}x{height}): {mean_ssim:.4f}\")\n",
    "\n",
    "    # Step 6: Cleanup temp files\n",
    "    if cleanup:\n",
    "        for path in [resized_path, compressed_path]:\n",
    "            try:\n",
    "                os.remove(path)\n",
    "            except Exception:\n",
    "                pass\n",
    "\n",
    "    return mean_ssim\n",
    "\n",
    "compute_h264_ssim_comparison(\"celebv_-bDW55dxoCg_0.mp4\", height=64, width=64)"
   ]
  },
  {
   "cell_type": "code",
   "execution_count": 24,
   "id": "edd6d0e8",
   "metadata": {},
   "outputs": [
    {
     "name": "stdout",
     "output_type": "stream",
     "text": [
      "[✓] Side-by-side AAC comparison saved to: comparison_aac_celebv_-bDW55dxoCg_0.avi\n",
      "[▶] Converting comparison_aac_celebv_-bDW55dxoCg_0.avi → comparisons/comparison_aac_celebv_-bDW55dxoCg_0.mp4\n",
      "Deleted temporary file: comparison_aac_celebv_-bDW55dxoCg_0.avi\n"
     ]
    },
    {
     "name": "stderr",
     "output_type": "stream",
     "text": [
      "ffmpeg version 4.4.2-0ubuntu0.22.04.1 Copyright (c) 2000-2021 the FFmpeg developers\n",
      "  built with gcc 11 (Ubuntu 11.2.0-19ubuntu1)\n",
      "  configuration: --prefix=/usr --extra-version=0ubuntu0.22.04.1 --toolchain=hardened --libdir=/usr/lib/x86_64-linux-gnu --incdir=/usr/include/x86_64-linux-gnu --arch=amd64 --enable-gpl --disable-stripping --enable-gnutls --enable-ladspa --enable-libaom --enable-libass --enable-libbluray --enable-libbs2b --enable-libcaca --enable-libcdio --enable-libcodec2 --enable-libdav1d --enable-libflite --enable-libfontconfig --enable-libfreetype --enable-libfribidi --enable-libgme --enable-libgsm --enable-libjack --enable-libmp3lame --enable-libmysofa --enable-libopenjpeg --enable-libopenmpt --enable-libopus --enable-libpulse --enable-librabbitmq --enable-librubberband --enable-libshine --enable-libsnappy --enable-libsoxr --enable-libspeex --enable-libsrt --enable-libssh --enable-libtheora --enable-libtwolame --enable-libvidstab --enable-libvorbis --enable-libvpx --enable-libwebp --enable-libx265 --enable-libxml2 --enable-libxvid --enable-libzimg --enable-libzmq --enable-libzvbi --enable-lv2 --enable-omx --enable-openal --enable-opencl --enable-opengl --enable-sdl2 --enable-pocketsphinx --enable-librsvg --enable-libmfx --enable-libdc1394 --enable-libdrm --enable-libiec61883 --enable-chromaprint --enable-frei0r --enable-libx264 --enable-shared\n",
      "  libavutil      56. 70.100 / 56. 70.100\n",
      "  libavcodec     58.134.100 / 58.134.100\n",
      "  libavformat    58. 76.100 / 58. 76.100\n",
      "  libavdevice    58. 13.100 / 58. 13.100\n",
      "  libavfilter     7.110.100 /  7.110.100\n",
      "  libswscale      5.  9.100 /  5.  9.100\n",
      "  libswresample   3.  9.100 /  3.  9.100\n",
      "  libpostproc    55.  9.100 / 55.  9.100\n",
      "Input #0, avi, from 'comparison_aac_celebv_-bDW55dxoCg_0.avi':\n",
      "  Metadata:\n",
      "    software        : Lavf59.27.100\n",
      "  Duration: 00:00:04.50, start: 0.000000, bitrate: 49 kb/s\n",
      "  Stream #0:0: Video: mpeg4 (Simple Profile) (XVID / 0x44495658), yuv420p, 128x64 [SAR 1:1 DAR 2:1], 24 fps, 24 tbr, 24 tbn, 24 tbc\n",
      "Stream mapping:\n",
      "  Stream #0:0 -> #0:0 (mpeg4 (native) -> h264 (libx264))\n",
      "Press [q] to stop, [?] for help\n",
      "[libx264 @ 0x5628169b5640] using SAR=1/1\n",
      "[libx264 @ 0x5628169b5640] using cpu capabilities: MMX2 SSE2Fast SSSE3 SSE4.2 AVX FMA3 BMI2 AVX2 AVX512\n",
      "[libx264 @ 0x5628169b5640] profile High, level 2.1, 4:2:0, 8-bit\n",
      "[libx264 @ 0x5628169b5640] 264 - core 163 r3060 5db6aa6 - H.264/MPEG-4 AVC codec - Copyleft 2003-2021 - http://www.videolan.org/x264.html - options: cabac=1 ref=3 deblock=1:0:0 analyse=0x3:0x113 me=hex subme=7 psy=1 psy_rd=1.00:0.00 mixed_ref=1 me_range=16 chroma_me=1 trellis=1 8x8dct=1 cqm=0 deadzone=21,11 fast_pskip=1 chroma_qp_offset=-2 threads=8 lookahead_threads=1 sliced_threads=0 nr=0 decimate=1 interlaced=0 bluray_compat=0 constrained_intra=0 bframes=3 b_pyramid=2 b_adapt=1 b_bias=0 direct=1 weightb=1 open_gop=0 weightp=2 keyint=250 keyint_min=24 scenecut=40 intra_refresh=0 rc_lookahead=40 rc=crf mbtree=1 crf=23.0 qcomp=0.60 qpmin=0 qpmax=69 qpstep=4 ip_ratio=1.40 aq=1:1.00\n",
      "Output #0, mp4, to 'comparisons/comparison_aac_celebv_-bDW55dxoCg_0.mp4':\n",
      "  Metadata:\n",
      "    software        : Lavf59.27.100\n",
      "    encoder         : Lavf58.76.100\n",
      "  Stream #0:0: Video: h264 (avc1 / 0x31637661), yuv420p(tv, progressive), 512x256 [SAR 1:1 DAR 2:1], q=2-31, 24 fps, 12288 tbn\n",
      "    Metadata:\n",
      "      encoder         : Lavc58.134.100 libx264\n",
      "    Side data:\n",
      "      cpb: bitrate max/min/avg: 0/0/0 buffer size: 0 vbv_delay: N/A\n",
      "frame=  108 fps=0.0 q=-1.0 Lsize=      79kB time=00:00:04.37 bitrate= 148.4kbits/s speed=38.2x    \n",
      "video:77kB audio:0kB subtitle:0kB other streams:0kB global headers:0kB muxing overhead: 2.739587%\n",
      "[libx264 @ 0x5628169b5640] frame I:1     Avg QP:18.77  size:  2331\n",
      "[libx264 @ 0x5628169b5640] frame P:27    Avg QP:20.41  size:  1532\n",
      "[libx264 @ 0x5628169b5640] frame B:80    Avg QP:22.67  size:   432\n",
      "[libx264 @ 0x5628169b5640] consecutive B-frames:  0.9%  0.0%  2.8% 96.3%\n",
      "[libx264 @ 0x5628169b5640] mb I  I16..4: 31.4% 68.2%  0.4%\n",
      "[libx264 @ 0x5628169b5640] mb P  I16..4:  6.1% 17.1%  0.2%  P16..4: 32.5%  9.2%  3.4%  0.0%  0.0%    skip:31.6%\n",
      "[libx264 @ 0x5628169b5640] mb B  I16..4:  0.2%  0.3%  0.0%  B16..8: 28.1%  2.3%  0.2%  direct: 2.1%  skip:66.8%  L0:53.8% L1:42.2% BI: 4.0%\n",
      "[libx264 @ 0x5628169b5640] 8x8 transform intra:72.1% inter:99.1%\n",
      "[libx264 @ 0x5628169b5640] coded y,uvDC,uvAC intra: 29.4% 35.5% 1.1% inter: 7.2% 11.0% 0.0%\n",
      "[libx264 @ 0x5628169b5640] i16 v,h,dc,p: 31% 31% 15% 23%\n",
      "[libx264 @ 0x5628169b5640] i8 v,h,dc,ddl,ddr,vr,hd,vl,hu: 30% 17% 29%  4%  4%  4%  3%  6%  4%\n",
      "[libx264 @ 0x5628169b5640] i4 v,h,dc,ddl,ddr,vr,hd,vl,hu: 27% 19% 28%  6%  4% 10%  3%  3%  1%\n",
      "[libx264 @ 0x5628169b5640] i8c dc,h,v,p: 60% 14% 20%  6%\n",
      "[libx264 @ 0x5628169b5640] Weighted P-Frames: Y:14.8% UV:14.8%\n",
      "[libx264 @ 0x5628169b5640] ref P L0: 56.6%  6.9% 23.9% 10.3%  2.3%\n",
      "[libx264 @ 0x5628169b5640] ref B L0: 83.8% 13.2%  3.0%\n",
      "[libx264 @ 0x5628169b5640] ref B L1: 94.9%  5.1%\n",
      "[libx264 @ 0x5628169b5640] kb/s:139.20\n"
     ]
    },
    {
     "data": {
      "text/html": [
       "\n",
       "    <video width=\"512\" height=\"256\" controls>\n",
       "      <source src=\"comparisons/comparison_aac_celebv_-bDW55dxoCg_0.mp4\" type=\"video/mp4\">\n",
       "      Your browser does not support the video tag.\n",
       "    </video>\n",
       "    "
      ],
      "text/plain": [
       "<IPython.core.display.HTML object>"
      ]
     },
     "execution_count": 24,
     "metadata": {},
     "output_type": "execute_result"
    }
   ],
   "source": [
    "importlib.reload(aac)\n",
    "\n",
    "aac.generate_and_display_aac_comparison(\n",
    "    video_name=video_name,\n",
    "    aac_results_dict=results,\n",
    "    height=64,\n",
    "    width=64,\n",
    "    video_folder=\"extracted_videos\",\n",
    ")"
   ]
  },
  {
   "cell_type": "code",
   "execution_count": 23,
   "id": "49e6a955",
   "metadata": {},
   "outputs": [
    {
     "name": "stdout",
     "output_type": "stream",
     "text": [
      "[✓] Saved reconstructed AAC video to: reconstructions/celebv_-bDW55dxoCg_0_recon.mp4\n"
     ]
    }
   ],
   "source": [
    "importlib.reload(aac)\n",
    "\n",
    "aac.save_aac_reconstruction_only(\n",
    "    aac_results_dict=results,\n",
    "    video_name=video_name,\n",
    "    out_dir=\"reconstructions\",\n",
    "    fps=24,\n",
    "    scale=4\n",
    ")"
   ]
  },
  {
   "cell_type": "code",
   "execution_count": 35,
   "id": "cab8c5b3",
   "metadata": {},
   "outputs": [
    {
     "name": "stdout",
     "output_type": "stream",
     "text": [
      "Recon frames shape: (108, 64, 64, 3)\n",
      "[✓] Saved side-by-side comparison AVI to: comparisons/comparison_aac_celebv_-bDW55dxoCg_0.avi\n"
     ]
    }
   ],
   "source": [
    "importlib.reload(aac)\n",
    "\n",
    "aac.generate_and_display_aac_comparison_avi(\n",
    "    video_name=video_name,\n",
    "    aac_results_dict=results,\n",
    "    height=64,\n",
    "    width=64,\n",
    "    video_folder=\"extracted_videos\",\n",
    "    out_dir=\"comparisons\",\n",
    "    fps=24,\n",
    "    scale=4\n",
    ")\n"
   ]
  },
  {
   "cell_type": "code",
   "execution_count": 41,
   "id": "205eb936",
   "metadata": {},
   "outputs": [
    {
     "data": {
      "image/png": "[encoded data removed]",
      "text/plain": [
       "<Figure size 1000x400 with 1 Axes>"
      ]
     },
     "metadata": {},
     "output_type": "display_data"
    }
   ],
   "source": [
    "# Helper functions\n",
    "def extract_normalized_frames(video_path, height, width):\n",
    "    cap = cv2.VideoCapture(video_path)\n",
    "    frames = []\n",
    "    while True:\n",
    "        ret, frame = cap.read()\n",
    "        if not ret:\n",
    "            break\n",
    "        frame_resized = cv2.resize(frame, (width, height))\n",
    "        frame_rgb = cv2.cvtColor(frame_resized, cv2.COLOR_BGR2RGB)\n",
    "        frames.append(frame_rgb / 255.0)\n",
    "    cap.release()\n",
    "    return np.array(frames)\n",
    "\n",
    "def create_sequences(frames, sequence_length):\n",
    "    return np.array([frames[i:i+sequence_length] for i in range(len(frames) - sequence_length + 1)])\n",
    "\n",
    "# Load video filenames (assumed available from user context)\n",
    "video_filenames_val = sorted(set(video_filenames[split_index:]))\n",
    "\n",
    "# Collect all latents\n",
    "all_z_flat = []\n",
    "\n",
    "for video_name in video_filenames_val:\n",
    "    video_path = os.path.join(video_folder, video_name)\n",
    "    frames = extract_normalized_frames(video_path, height, width)\n",
    "    sequences = create_sequences(frames, sequence_length)\n",
    "    if sequences.shape[0] == 0:\n",
    "        continue\n",
    "    z = vqvae.encoder(sequences, training=False).numpy()  # (N, T, H, W, C)\n",
    "    z_flat = z.reshape(-1, z.shape[-1])  # (N*T*H*W, C)\n",
    "    all_z_flat.append(z_flat)\n",
    "\n",
    "# Stack all flattened latents\n",
    "z_all = np.vstack(all_z_flat)\n",
    "\n",
    "# Compute stats\n",
    "mean_per_channel = np.mean(z_all, axis=0)\n",
    "std_per_channel = np.std(z_all, axis=0)\n",
    "\n",
    "# Plot\n",
    "plt.figure(figsize=(10, 4))\n",
    "plt.bar(np.arange(len(mean_per_channel)), mean_per_channel)\n",
    "plt.title(\"Latent Channel Usage on Validation Set (Mean per Channel)\")\n",
    "plt.xlabel(\"Channel Index\")\n",
    "plt.ylabel(\"Mean\")\n",
    "plt.grid(True)\n",
    "plt.tight_layout()\n",
    "plt.show()"
   ]
  },
  {
   "cell_type": "code",
   "execution_count": 45,
   "id": "52115431",
   "metadata": {},
   "outputs": [
    {
     "data": {
      "image/png": "[encoded data removed]",
      "text/plain": [
       "<Figure size 1000x400 with 1 Axes>"
      ]
     },
     "metadata": {},
     "output_type": "display_data"
    }
   ],
   "source": [
    "abs_means = np.abs(mean_per_channel)\n",
    "threshold = 0.15 * np.max(np.abs(mean_per_channel))\n",
    "\n",
    "colors = ['red' if abs(m) < threshold else 'blue' for m in mean_per_channel]\n",
    "\n",
    "plt.figure(figsize=(10, 4))\n",
    "plt.bar(np.arange(len(mean_per_channel)), mean_per_channel, color=colors)\n",
    "plt.title(\"Latent Channel Usage on Validation Set (Mean per Channel)\")\n",
    "plt.xlabel(\"Channel Index\")\n",
    "plt.ylabel(\"Mean\")\n",
    "plt.grid(True)\n",
    "plt.tight_layout()\n",
    "plt.show()"
   ]
  }
 ],
 "metadata": {
  "kernelspec": {
   "display_name": "TF-GPU (WSL)",
   "language": "python",
   "name": "tf-gpu"
  },
  "language_info": {
   "codemirror_mode": {
    "name": "ipython",
    "version": 3
   },
   "file_extension": ".py",
   "mimetype": "text/x-python",
   "name": "python",
   "nbconvert_exporter": "python",
   "pygments_lexer": "ipython3",
   "version": "3.10.16"
  }
 },
 "nbformat": 4,
 "nbformat_minor": 5
}
