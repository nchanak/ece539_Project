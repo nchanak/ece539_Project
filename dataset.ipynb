{
 "cells": [
  {
   "cell_type": "code",
   "execution_count": 16,
   "metadata": {},
   "outputs": [
    {
     "name": "stdout",
     "output_type": "stream",
     "text": [
      "            zip_file                     video  \\\n",
      "0  OpenVid_part0.zip  celebv_--Jiv5iYqT8_0.mp4   \n",
      "1  OpenVid_part0.zip  celebv_--Jiv5iYqT8_2.mp4   \n",
      "2  OpenVid_part0.zip  celebv_--QCZKgJt6o_0.mp4   \n",
      "3  OpenVid_part0.zip  celebv_--oCWVOBuvA_0.mp4   \n",
      "4  OpenVid_part0.zip  celebv_--uyzf7X_0c_0.mp4   \n",
      "\n",
      "                               video_path  \n",
      "0  OpenVid_part1/celebv_--Jiv5iYqT8_0.mp4  \n",
      "1  OpenVid_part1/celebv_--Jiv5iYqT8_2.mp4  \n",
      "2  OpenVid_part1/celebv_--QCZKgJt6o_0.mp4  \n",
      "3  OpenVid_part1/celebv_--oCWVOBuvA_0.mp4  \n",
      "4  OpenVid_part1/celebv_--uyzf7X_0c_0.mp4  \n"
     ]
    }
   ],
   "source": [
    "import pandas as pd\n",
    "from huggingface_hub import hf_hub_download\n",
    "\n",
    "REPO_ID = \"phil329/OpenVid-1M-mapping\"\n",
    "dfs = []\n",
    "\n",
    "# Loop through parts 0 to 185 (inclusive)\n",
    "for part in range(186):\n",
    "    filename = f\"video_mappings/OpenVid_part{part}.csv\"\n",
    "    file_path = hf_hub_download(\n",
    "        repo_id=REPO_ID,\n",
    "        filename=filename,\n",
    "        repo_type=\"dataset\",\n",
    "        local_dir=\".\"\n",
    "    )\n",
    "    df = pd.read_csv(file_path)\n",
    "    dfs.append(df)\n",
    "\n",
    "# Combine all individual DataFrames into one\n",
    "dataset = pd.concat(dfs, ignore_index=True)\n",
    "\n",
    "# Optionally, inspect the resulting dataset\n",
    "print(dataset.head())\n"
   ]
  }
 ],
 "metadata": {
  "kernelspec": {
   "display_name": "base",
   "language": "python",
   "name": "python3"
  },
  "language_info": {
   "codemirror_mode": {
    "name": "ipython",
    "version": 3
   },
   "file_extension": ".py",
   "mimetype": "text/x-python",
   "name": "python",
   "nbconvert_exporter": "python",
   "pygments_lexer": "ipython3",
   "version": "3.11.8"
  }
 },
 "nbformat": 4,
 "nbformat_minor": 2
}
